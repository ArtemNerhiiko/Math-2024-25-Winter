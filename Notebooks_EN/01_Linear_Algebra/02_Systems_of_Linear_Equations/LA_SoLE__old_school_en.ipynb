{
  "cells": [
    {
      "cell_type": "markdown",
      "metadata": {
        "id": "gCpL4KArub34"
      },
      "source": [
        "# School Method for Solving Systems of Linear Equations"
      ]
    },
    {
      "cell_type": "code",
      "execution_count": 1,
      "metadata": {
        "id": "bBcETR1kub35"
      },
      "outputs": [],
      "source": [
        "import sympy as sp\n",
        "from sympy import symbols, Eq, expand, solve\n",
        "\n",
        "class EnhancedEq(Eq):\n",
        "    def __add__(self, other):\n",
        "        return EnhancedEq(self.lhs + other.lhs, self.rhs + other.rhs)\n",
        "\n",
        "    def __sub__(self, other):\n",
        "        return EnhancedEq(self.lhs - other.lhs, self.rhs - other.rhs)\n",
        "\n",
        "    def __mul__(self, scalar):\n",
        "        return EnhancedEq(scalar * self.lhs, scalar * self.rhs)\n",
        "\n",
        "    def __rmul__(self, scalar):\n",
        "        return self.__mul__(scalar)\n",
        "\n",
        "    def simplify(self):\n",
        "        return EnhancedEq(expand(self.lhs), expand(self.rhs))\n",
        "\n",
        "    def substitute(self, *args, **kwargs):\n",
        "        return EnhancedEq(self.lhs.subs(*args, **kwargs), self.rhs.subs(*args, **kwargs))\n",
        "\n",
        "    def solve_for(self, symbol):\n",
        "        return solve(self, symbol)\n",
        "\n",
        "# Example usage:\n",
        "x, y = symbols('x y')\n",
        "\n",
        "# Define equations\n",
        "eq1 = EnhancedEq(2*x + y, 5)\n",
        "eq2 = EnhancedEq(x - y, 1)"
      ]
    },
    {
      "cell_type": "code",
      "execution_count": null,
      "metadata": {
        "id": "2AXK_zTnub37",
        "outputId": "3e925bd0-6037-4aee-bbba-f71fd62b6541"
      },
      "outputs": [
        {
          "name": "stdout",
          "output_type": "stream",
          "text": [
            "First equation:\n"
          ]
        },
        {
          "data": {
            "text/latex": [
              "$\\displaystyle 2 x + y = 5$"
            ],
            "text/plain": [
              "Eq(2*x + y, 5)"
            ]
          },
          "execution_count": 2,
          "metadata": {},
          "output_type": "execute_result"
        }
      ],
      "source": [
        "print(\"First equation:\")\n",
        "eq1"
      ]
    },
    {
      "cell_type": "code",
      "execution_count": null,
      "metadata": {
        "id": "EKEvaEzuub38",
        "outputId": "97f37874-97a7-47e4-b6b1-d7398a3d7f0e"
      },
      "outputs": [
        {
          "name": "stdout",
          "output_type": "stream",
          "text": [
            "Second equation:\n"
          ]
        },
        {
          "data": {
            "text/latex": [
              "$\\displaystyle x - y = 1$"
            ],
            "text/plain": [
              "Eq(x - y, 1)"
            ]
          },
          "execution_count": 3,
          "metadata": {},
          "output_type": "execute_result"
        }
      ],
      "source": [
        "print(\"Second equation:\")\n",
        "eq2"
      ]
    },
    {
      "cell_type": "code",
      "execution_count": null,
      "metadata": {
        "id": "km06N0Bhub38",
        "outputId": "429b195a-967f-48fb-892f-d52f5c292d79"
      },
      "outputs": [
        {
          "data": {
            "text/latex": [
              "$\\displaystyle 3 x = 6$"
            ],
            "text/plain": [
              "Eq(3*x, 6)"
            ]
          },
          "execution_count": 4,
          "metadata": {},
          "output_type": "execute_result"
        }
      ],
      "source": [
        "# Add the equations\n",
        "eq3 = eq1 + eq2\n",
        "eq3"
      ]
    },
    {
      "cell_type": "code",
      "execution_count": null,
      "metadata": {
        "id": "snvVNQmhub38",
        "outputId": "55355196-0eff-407e-e34f-335c5525cc38"
      },
      "outputs": [
        {
          "data": {
            "text/latex": [
              "$\\displaystyle 2$"
            ],
            "text/plain": [
              "2"
            ]
          },
          "execution_count": 5,
          "metadata": {},
          "output_type": "execute_result"
        }
      ],
      "source": [
        "# We have an equation with one unknown, so we can solve it\n",
        "sol_x = eq3.solve_for(x)[0]\n",
        "sol_x"
      ]
    },
    {
      "cell_type": "code",
      "execution_count": null,
      "metadata": {
        "id": "bqymcIJxub39",
        "outputId": "ad0d4e36-c64b-4249-f342-3ff155a3b358"
      },
      "outputs": [
        {
          "data": {
            "text/latex": [
              "$\\displaystyle 2 - y = 1$"
            ],
            "text/plain": [
              "Eq(2 - y, 1)"
            ]
          },
          "execution_count": 6,
          "metadata": {},
          "output_type": "execute_result"
        }
      ],
      "source": [
        "# Substitute the solution into equation 2\n",
        "eq2 = eq2.substitute(x, sol_x)\n",
        "eq2"
      ]
    },
    {
      "cell_type": "code",
      "execution_count": null,
      "metadata": {
        "id": "FPfFYxkKub39",
        "outputId": "3e493d3d-a81b-4710-f438-20e9c120b268"
      },
      "outputs": [
        {
          "data": {
            "text/latex": [
              "$\\displaystyle 1$"
            ],
            "text/plain": [
              "1"
            ]
          },
          "execution_count": 7,
          "metadata": {},
          "output_type": "execute_result"
        }
      ],
      "source": [
        "# We get an equation with one unknown, so we can solve it\n",
        "eq2.solve_for(y)[0]"
      ]
    },
    {
      "cell_type": "code",
      "execution_count": null,
      "metadata": {
        "id": "AtRtkDmpub39",
        "outputId": "ebdcf6c0-bd21-4327-9e51-264f871ab544"
      },
      "outputs": [
        {
          "data": {
            "text/plain": [
              "{x: 2, y: 1}"
            ]
          },
          "execution_count": 8,
          "metadata": {},
          "output_type": "execute_result"
        }
      ],
      "source": [
        "# Thus x=2, y=1\n",
        "# Verify with sympy\n",
        "sp.solve([eq1, eq2])"
      ]
    },
    {
      "cell_type": "markdown",
      "metadata": {
        "id": "1eS4COcUub39"
      },
      "source": [
        "---\n",
        "\n",
        "### Exercises for Students\n",
        "\n",
        "Solve the following systems of equations similarly to the example above:\n",
        "\n",
        "* $3x-2y=5, \\quad 2x+3y=7$,\n",
        "* $2x-3y=10, \\quad 4x+5y=20$,\n",
        "* $2x - y + z = 3, \\quad x + 2y - z = 1, \\quad 3x - y + 2z = 11$.\n",
        "* $2x-3y+4z+2t=2, \\quad 3x+2y-5z+3t=3, \\quad 4x-3y+2z-5t=4, \\quad 5x+4y-3z+2t=5$."
      ]
    },
    {
      "cell_type": "code",
      "source": [
        "x, y = symbols('x y')\n",
        "\n",
        "# Define equations\n",
        "eq1 = EnhancedEq(3*x - 2*y, 5)\n",
        "eq2 = EnhancedEq(2*x + 3*y, 7)\n",
        "print(\"First equation:\", eq1)\n",
        "print(\"Second equation:\", eq2)\n",
        "\n",
        "eq1 = eq1 * 3\n",
        "eq2 = eq2 * 2\n",
        "\n",
        "# Add the equations\n",
        "eq3 = eq1 + eq2\n",
        "eq3\n",
        "sol_x = eq3.solve_for(x)[0]\n",
        "print(\"x=\", sol_x)\n",
        "eq2 = eq2.substitute(x, sol_x)\n",
        "sol_y = eq2.solve_for(y)[0]\n",
        "print(\"y=\", sol_y)"
      ],
      "metadata": {
        "id": "zat3n6EaKipx",
        "outputId": "5245e8c1-e98f-4140-905e-7a4a89694334",
        "colab": {
          "base_uri": "https://localhost:8080/"
        }
      },
      "execution_count": 9,
      "outputs": [
        {
          "output_type": "stream",
          "name": "stdout",
          "text": [
            "First equation: Eq(3*x - 2*y, 5)\n",
            "Second equation: Eq(2*x + 3*y, 7)\n",
            "x= 29/13\n",
            "y= 11/13\n"
          ]
        }
      ]
    },
    {
      "cell_type": "code",
      "source": [
        "x, y = symbols('x y')\n",
        "\n",
        "# Define equations\n",
        "eq1 = EnhancedEq(2*x - 3*y, 10)\n",
        "eq2 = EnhancedEq(4*x + 5*y, 20)\n",
        "print(\"First equation:\", eq1)\n",
        "print(\"Second equation:\", eq2)\n",
        "\n",
        "eq1 = eq1 * 5\n",
        "eq2 = eq2 * 3\n",
        "\n",
        "# Add the equations\n",
        "eq3 = eq1 + eq2\n",
        "eq3\n",
        "sol_x = eq3.solve_for(x)[0]\n",
        "print(\"x=\", sol_x)\n",
        "eq2 = eq2.substitute(x, sol_x)\n",
        "sol_y = eq2.solve_for(y)[0]\n",
        "print(\"y=\", sol_y)"
      ],
      "metadata": {
        "collapsed": true,
        "id": "jy4Um2knMVGy",
        "outputId": "25a2ba19-0dd7-43e6-ef71-65643babca7b",
        "colab": {
          "base_uri": "https://localhost:8080/"
        }
      },
      "execution_count": 13,
      "outputs": [
        {
          "output_type": "stream",
          "name": "stdout",
          "text": [
            "First equation: Eq(2*x - 3*y, 10)\n",
            "Second equation: Eq(4*x + 5*y, 20)\n",
            "x= 5\n",
            "y= 0\n"
          ]
        }
      ]
    },
    {
      "cell_type": "code",
      "source": [
        "x, y, z = symbols('x y z')\n",
        "\n",
        "# Define equations\n",
        "eq1 = EnhancedEq(2*x - y + z, 3)\n",
        "eq2 = EnhancedEq(x + 2*y - z, 1)\n",
        "eq3 = EnhancedEq(3*x - y + 2*z, 11)\n",
        "\n",
        "eq4 = eq3-eq1\n",
        "eq4\n",
        "eq5 = 2*eq1 + eq2\n",
        "eq5\n",
        "eq6 = eq5-eq4\n",
        "eq6\n",
        "sol_x = eq6.solve_for(x)[0]\n",
        "print(\"x=\",sol_x)\n",
        "eq4 = eq4.substitute({x: sol_x})\n",
        "eq4\n",
        "sol_z = eq4.solve_for(z)[0]\n",
        "print(\"z=\",sol_z)\n",
        "eq1 = eq1.substitute({x: sol_x, z: sol_z})\n",
        "sol_y = eq1.solve_for(y)[0]\n",
        "print(\"y=\",sol_y)\n",
        "print(\"check:\")\n",
        "print(2*(-1/4) - 19/4 + 33/4==3)\n",
        "print(1*(-1/4) + 2*19/4 - 33/4==1)\n",
        "print(3*(-1/4) - 19/4 + 2*33/4==11)"
      ],
      "metadata": {
        "id": "QFqaQnRfM9xl",
        "outputId": "ab5d2b12-0a74-4162-97ba-a150731678ab",
        "colab": {
          "base_uri": "https://localhost:8080/"
        }
      },
      "execution_count": 26,
      "outputs": [
        {
          "output_type": "stream",
          "name": "stdout",
          "text": [
            "x= -1/4\n",
            "z= 33/4\n",
            "y= 19/4\n",
            "check:\n",
            "True\n",
            "True\n",
            "True\n"
          ]
        }
      ]
    }
  ],
  "metadata": {
    "kernelspec": {
      "display_name": "Python 3",
      "language": "python",
      "name": "python3"
    },
    "language_info": {
      "codemirror_mode": {
        "name": "ipython",
        "version": 3
      },
      "file_extension": ".py",
      "mimetype": "text/x-python",
      "name": "python",
      "nbconvert_exporter": "python",
      "pygments_lexer": "ipython3",
      "version": "3.11.9"
    },
    "colab": {
      "provenance": []
    }
  },
  "nbformat": 4,
  "nbformat_minor": 0
}