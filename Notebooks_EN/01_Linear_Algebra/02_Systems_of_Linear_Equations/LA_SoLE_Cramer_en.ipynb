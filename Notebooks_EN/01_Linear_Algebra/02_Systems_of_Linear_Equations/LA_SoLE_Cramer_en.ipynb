{
  "cells": [
    {
      "cell_type": "markdown",
      "metadata": {
        "id": "P0i8ZdWfntoF"
      },
      "source": [
        "# Cramer's Rule - Examples for 2x2, 3x3, and 4x4 Systems\n",
        "\n",
        "Cramer's rule is used only when the number of equations is equal to the number of unknowns. In other words, the coefficient matrix must be a square matrix.\n",
        "\n",
        "**These formulas are used only** when the **determinant** of the coefficient matrix is **non-zero**. Otherwise, the system of equations is either inconsistent or indeterminate.\n",
        "\n",
        "## 2x2 System of Equations\n",
        "\n",
        "Consider a system of two equations with two unknowns:\n",
        "\n",
        "$$\n",
        "\\begin{cases}\n",
        "a_{11}x_1 + a_{12}x_2 = b_1 \\\\\n",
        "a_{21}x_1 + a_{22}x_2 = b_2\n",
        "\\end{cases}\n",
        "$$\n",
        "\n",
        "Cramer's rule for the unknowns $ x_1 $ and $ x_2 $ is as follows:\n",
        "\n",
        "$$\n",
        "x_1 = \\frac{\\det(A_1)}{\\det(A)} \\quad \\text{and} \\quad x_2 = \\frac{\\det(A_2)}{\\det(A)}\n",
        "$$\n",
        "\n",
        "Where:\n",
        "\n",
        "$$\n",
        "\\det(A) =\n",
        "\\begin{vmatrix}\n",
        "a_{11} & a_{12} \\\\\n",
        "a_{21} & a_{22}\n",
        "\\end{vmatrix}\n",
        "= a_{11}a_{22} - a_{12}a_{21}\n",
        "$$\n",
        "\n",
        "$$\n",
        "\\det(A_1) =\n",
        "\\begin{vmatrix}\n",
        "b_1 & a_{12} \\\\\n",
        "b_2 & a_{22}\n",
        "\\end{vmatrix}\n",
        "= b_1a_{22} - a_{12}b_2\n",
        "$$\n",
        "\n",
        "$$\n",
        "\\det(A_2) =\n",
        "\\begin{vmatrix}\n",
        "a_{11} & b_1 \\\\\n",
        "a_{21} & b_2\n",
        "\\end{vmatrix}\n",
        "= a_{11}b_2 - b_1a_{21}\n",
        "$$\n",
        "\n",
        "## 3x3 System of Equations\n",
        "\n",
        "Consider a system of three equations with three unknowns:\n",
        "\n",
        "$$\n",
        "\\begin{cases}\n",
        "a_{11}x_1 + a_{12}x_2 + a_{13}x_3 = b_1 \\\\\n",
        "a_{21}x_1 + a_{22}x_2 + a_{23}x_3 = b_2 \\\\\n",
        "a_{31}x_1 + a_{32}x_2 + a_{33}x_3 = b_3\n",
        "\\end{cases}\n",
        "$$\n",
        "\n",
        "Cramer's rule for $ x_1 $, $ x_2 $, and $ x_3 $:\n",
        "\n",
        "$$\n",
        "x_1 = \\frac{\\det(A_1)}{\\det(A)} \\quad x_2 = \\frac{\\det(A_2)}{\\det(A)} \\quad x_3 = \\frac{\\det(A_3)}{\\det(A)}\n",
        "$$\n",
        "\n",
        "Where:\n",
        "\n",
        "$$\n",
        "\\det(A) =\n",
        "\\begin{vmatrix}\n",
        "a_{11} & a_{12} & a_{13} \\\\\n",
        "a_{21} & a_{22} & a_{23} \\\\\n",
        "a_{31} & a_{32} & a_{33}\n",
        "\\end{vmatrix}\n",
        "$$\n",
        "\n",
        "$$\n",
        "\\det(A_1) =\n",
        "\\begin{vmatrix}\n",
        "b_1 & a_{12} & a_{13} \\\\\n",
        "b_2 & a_{22} & a_{23} \\\\\n",
        "b_3 & a_{32} & a_{33}\n",
        "\\end{vmatrix}\n",
        "$$\n",
        "\n",
        "$$\n",
        "\\det(A_2) =\n",
        "\\begin{vmatrix}\n",
        "a_{11} & b_1 & a_{13} \\\\\n",
        "a_{21} & b_2 & a_{23} \\\\\n",
        "a_{31} & b_3 & a_{33}\n",
        "\\end{vmatrix}\n",
        "$$\n",
        "\n",
        "$$\n",
        "\\det(A_3) =\n",
        "\\begin{vmatrix}\n",
        "a_{11} & a_{12} & b_1 \\\\\n",
        "a_{21} & a_{22} & b_2 \\\\\n",
        "a_{31} & a_{32} & b_3\n",
        "\\end{vmatrix}\n",
        "$$\n",
        "\n",
        "## 4x4 System of Equations\n",
        "\n",
        "Consider a system of four equations with four unknowns:\n",
        "\n",
        "$$\n",
        "\\begin{cases}\n",
        "a_{11}x_1 + a_{12}x_2 + a_{13}x_3 + a_{14}x_4 = b_1 \\\\\n",
        "a_{21}x_1 + a_{22}x_2 + a_{23}x_3 + a_{24}x_4 = b_2 \\\\\n",
        "a_{31}x_1 + a_{32}x_2 + a_{33}x_3 + a_{34}x_4 = b_3 \\\\\n",
        "a_{41}x_1 + a_{42}x_2 + a_{43}x_3 + a_{44}x_4 = b_4\n",
        "\\end{cases}\n",
        "$$\n",
        "\n",
        "Cramer's rule for $ x_1 $, $ x_2 $, $ x_3 $, and $ x_4 $:\n",
        "\n",
        "$$\n",
        "x_1 = \\frac{\\det(A_1)}{\\det(A)} \\quad x_2 = \\frac{\\det(A_2)}{\\det(A)} \\quad x_3 = \\frac{\\det(A_3)}{\\det(A)} \\quad x_4 = \\frac{\\det(A_4)}{\\det(A)}\n",
        "$$\n",
        "\n",
        "Where:\n",
        "\n",
        "$$\n",
        "\\det(A) =\n",
        "\\begin{vmatrix}\n",
        "a_{11} & a_{12} & a_{13} & a_{14} \\\\\n",
        "a_{21} & a_{22} & a_{23} & a_{24} \\\\\n",
        "a_{31} & a_{32} & a_{33} & a_{34} \\\\\n",
        "a_{41} & a_{42} & a_{43} & a_{44}\n",
        "\\end{vmatrix}\n",
        "$$\n",
        "\n",
        "$$\n",
        "\\det(A_1) =\n",
        "\\begin{vmatrix}\n",
        "b_1 & a_{12} & a_{13} & a_{14} \\\\\n",
        "b_2 & a_{22} & a_{23} & a_{24} \\\\\n",
        "b_3 & a_{32} & a_{33} & a_{34} \\\\\n",
        "b_4 & a_{42} & a_{43} & a_{44}\n",
        "\\end{vmatrix}\n",
        "$$\n",
        "\n",
        "$$\n",
        "\\det(A_2) =\n",
        "\\begin{vmatrix}\n",
        "a_{11} & b_1 & a_{13} & a_{14} \\\\\n",
        "a_{21} & b_2 & a_{23} & a_{24} \\\\\n",
        "a_{31} & b_3 & a_{33} & a_{34} \\\\\n",
        "a_{41} & b_4 & a_{43} & a_{44}\n",
        "\\end{vmatrix}\n",
        "$$\n",
        "\n",
        "$$\n",
        "\\det(A_3) =\n",
        "\\begin{vmatrix}\n",
        "a_{11} & a_{12} & b_1 & a_{14} \\\\\n",
        "a_{21} & a_{22} & b_2 & a_{24} \\\\\n",
        "a_{31} & a_{32} & b_3 & a_{34} \\\\\n",
        "a_{41} & a_{42} & b_4 & a_{44}\n",
        "\\end{vmatrix}\n",
        "$$\n",
        "\n",
        "$$\n",
        "\\det(A_4) =\n",
        "\\begin{vmatrix}\n",
        "a_{11} & a_{12} & a_{13} & b_1 \\\\\n",
        "a_{21} & a_{22} & a_{23} & b_2 \\\\\n",
        "a_{31} & a_{32} & a_{33} & b_3 \\\\\n",
        "a_{41} & a_{42} & a_{43} & b_4\n",
        "\\end{vmatrix}\n",
        "$$\n",
        "\n",
        "## Example"
      ]
    },
    {
      "cell_type": "code",
      "execution_count": 1,
      "metadata": {
        "id": "AP7noEnZntoK"
      },
      "outputs": [],
      "source": [
        "import sympy as sp\n",
        "\n",
        "# Define symbols\n",
        "x, y, z = sp.symbols('x y z')\n",
        "\n",
        "# Define the system of equations\n",
        "eq1 = sp.Eq(2*x + 3*y + z, 1)\n",
        "eq2 = sp.Eq(3*x + 2*y + 2*z, 2)\n",
        "eq3 = sp.Eq(x + y + z, 3)\n",
        "\n",
        "# Coefficient matrix of the system\n",
        "A = sp.Matrix([[2, 3, 1], [3, 2, 2], [1, 1, 1]])\n",
        "# Free terms vector\n",
        "b = sp.Matrix([1, 2, 3])"
      ]
    },
    {
      "cell_type": "code",
      "execution_count": 2,
      "metadata": {
        "id": "PHk-_zNFntoL",
        "outputId": "972c60d8-c8e4-46e9-fcc2-866817ba1685",
        "colab": {
          "base_uri": "https://localhost:8080/",
          "height": 78
        }
      },
      "outputs": [
        {
          "output_type": "execute_result",
          "data": {
            "text/plain": [
              "Matrix([\n",
              "[2, 3, 1],\n",
              "[3, 2, 2],\n",
              "[1, 1, 1]])"
            ],
            "text/latex": "$\\displaystyle \\left[\\begin{matrix}2 & 3 & 1\\\\3 & 2 & 2\\\\1 & 1 & 1\\end{matrix}\\right]$"
          },
          "metadata": {},
          "execution_count": 2
        }
      ],
      "source": [
        "A"
      ]
    },
    {
      "cell_type": "code",
      "execution_count": 3,
      "metadata": {
        "id": "n48WjOQlntoM",
        "outputId": "3153a9e9-aa56-4eef-9920-6e6538256bac",
        "colab": {
          "base_uri": "https://localhost:8080/",
          "height": 78
        }
      },
      "outputs": [
        {
          "output_type": "execute_result",
          "data": {
            "text/plain": [
              "Matrix([\n",
              "[1],\n",
              "[2],\n",
              "[3]])"
            ],
            "text/latex": "$\\displaystyle \\left[\\begin{matrix}1\\\\2\\\\3\\end{matrix}\\right]$"
          },
          "metadata": {},
          "execution_count": 3
        }
      ],
      "source": [
        "b"
      ]
    },
    {
      "cell_type": "code",
      "execution_count": 4,
      "metadata": {
        "id": "sWJgrSvintoM",
        "outputId": "eb0fd239-5aef-470c-edda-1a2868f66c34",
        "colab": {
          "base_uri": "https://localhost:8080/",
          "height": 78
        }
      },
      "outputs": [
        {
          "output_type": "execute_result",
          "data": {
            "text/plain": [
              "Matrix([\n",
              "[1, 3, 1],\n",
              "[2, 2, 2],\n",
              "[3, 1, 1]])"
            ],
            "text/latex": "$\\displaystyle \\left[\\begin{matrix}1 & 3 & 1\\\\2 & 2 & 2\\\\3 & 1 & 1\\end{matrix}\\right]$"
          },
          "metadata": {},
          "execution_count": 4
        }
      ],
      "source": [
        "# Define matrix A_1\n",
        "A_1 = A.copy() # Copy matrix A\n",
        "A_1[:, 0] = b # Replace the first column of A with vector b\n",
        "A_1 # Check if the replacement was successful"
      ]
    },
    {
      "cell_type": "code",
      "execution_count": null,
      "metadata": {
        "id": "rGcMugAnntoN",
        "outputId": "dd3eee32-2ad5-41b1-fa9b-640f256a00e6"
      },
      "outputs": [
        {
          "data": {
            "text/latex": [
              "$\\displaystyle -4$"
            ],
            "text/plain": [
              "-4"
            ]
          },
          "execution_count": 5,
          "metadata": {},
          "output_type": "execute_result"
        }
      ],
      "source": [
        "det_A_1 = A_1.det() # Calculate determinant of A_1\n",
        "sol_x = det_A_1 / A.det() # Calculate x_1\n",
        "sol_x # Calculated value of x_1"
      ]
    },
    {
      "cell_type": "code",
      "execution_count": null,
      "metadata": {
        "id": "T65uR4AmntoN",
        "outputId": "5e8c32ed-d682-4a7a-b644-b93e2d6e0508"
      },
      "outputs": [
        {
          "data": {
            "text/latex": [
              "$\\displaystyle \\left[\\begin{matrix}2 & 1 & 1\\\\3 & 2 & 2\\\\1 & 3 & 1\\end{matrix}\\right]$"
            ],
            "text/plain": [
              "Matrix([\n",
              "[2, 1, 1],\n",
              "[3, 2, 2],\n",
              "[1, 3, 1]])"
            ]
          },
          "execution_count": 6,
          "metadata": {},
          "output_type": "execute_result"
        }
      ],
      "source": [
        "# Similarly for y\n",
        "A_2 = A.copy()\n",
        "A_2[:, 1] = b\n",
        "A_2 # Check if the replacement was successful"
      ]
    },
    {
      "cell_type": "code",
      "execution_count": null,
      "metadata": {
        "id": "2Bbb5dphntoO",
        "outputId": "d985ff6c-f283-47e9-b187-3458cd29f589"
      },
      "outputs": [
        {
          "data": {
            "text/latex": [
              "$\\displaystyle 1$"
            ],
            "text/plain": [
              "1"
            ]
          },
          "execution_count": 7,
          "metadata": {},
          "output_type": "execute_result"
        }
      ],
      "source": [
        "det_A_2 = A_2.det()\n",
        "sol_y = det_A_2 / A.det()\n",
        "sol_y"
      ]
    },
    {
      "cell_type": "code",
      "execution_count": null,
      "metadata": {
        "id": "J6quA7ycntoO",
        "outputId": "d470f02c-c5b1-4b5f-bc18-a20b2bcd182a"
      },
      "outputs": [
        {
          "data": {
            "text/latex": [
              "$\\displaystyle 6$"
            ],
            "text/plain": [
              "6"
            ]
          },
          "execution_count": 8,
          "metadata": {},
          "output_type": "execute_result"
        }
      ],
      "source": [
        "# Finally for z\n",
        "A_3 = A.copy()\n",
        "A_3[:, 2] = b\n",
        "det_A_3 = A_3.det()\n",
        "sol_z = det_A_3 / A.det()\n",
        "sol_z"
      ]
    },
    {
      "cell_type": "code",
      "execution_count": null,
      "metadata": {
        "id": "t6LLEELYntoO",
        "outputId": "7d980c8e-4a64-4b02-ced9-4a919fb68f4f"
      },
      "outputs": [
        {
          "data": {
            "text/plain": [
              "{x: -4, y: 1, z: 6}"
            ]
          },
          "execution_count": 9,
          "metadata": {},
          "output_type": "execute_result"
        }
      ],
      "source": [
        "# Solve the system of equations\n",
        "sp.solve((eq1, eq2, eq3), (x, y, z))"
      ]
    },
    {
      "cell_type": "markdown",
      "metadata": {
        "id": "_cpTvg4ontoP"
      },
      "source": [
        "---\n",
        "\n",
        "## Exercises for Students\n",
        "\n",
        "1. Solve the system of equations:\n",
        "   $$\n",
        "   \\begin{cases}\n",
        "   2x_1 - 3x_2 = 7 \\\\\n",
        "   3x_1 + 5x_2 = 2\n",
        "   \\end{cases}\n",
        "   $$\n",
        "\n",
        "2. Solve the system of equations:\n",
        "   $$\n",
        "   \\begin{cases}\n",
        "   2x + y - z = 1 \\\\\n",
        "   x - y + 2z = 4 \\\\\n",
        "   3x - 2z = -1\n",
        "   \\end{cases}\n",
        "   $$\n",
        "\n",
        "3. Solve the system of equations:\n",
        "   $$\n",
        "   \\begin{cases}\n",
        "   x + y + z - t = 2 \\\\\n",
        "   x - z + 2t = 6 \\\\\n",
        "   2x - 3y + t = 4 \\\\\n",
        "   3x + y + 3z - 4t = -2\n",
        "   \\end{cases}\n",
        "   $$\n",
        "\n",
        "4. Why can't the following system of equations be solved using Cramer's rule?\n",
        "$$\n",
        "\\begin{cases}\n",
        "x_1 + 2x_2 + 3x_3 = 3 \\\\\n",
        "4x_1 + 5x_2 + 6x_3 = 2 \\\\\n",
        "7x_1 + 8x_2 + 9x_3 = 1\n",
        "\\end{cases}\n",
        "$$"
      ]
    },
    {
      "cell_type": "code",
      "source": [
        "import sympy as sp\n",
        "\n",
        "# Define symbols\n",
        "x1, x2 = sp.symbols('x1 x2')\n",
        "# Define the system of equations\n",
        "eq1 = sp.Eq(2*x1 - 3*x2, 7)\n",
        "eq2 = sp.Eq(3*x1 + 5*x2, 2)\n",
        "# Coefficient matrix of the system\n",
        "A = sp.Matrix([[2, -3], [3, 5]])\n",
        "# Free terms vector\n",
        "b = sp.Matrix([7, 2])\n",
        "print(\"A =\", A)\n",
        "print(\"\\nVecotr b =\", b)\n",
        "\n",
        "# Define matrix A_1\n",
        "A_1 = A.copy() # Copy matrix A\n",
        "A_1[:, 0] = b # Replace the first column of A with vector b\n",
        "print(\"\\nA_1 =\", A_1) # Check if the replacement was successful\n",
        "det_A_1 = A_1.det() # Calculate determinant of A_1\n",
        "sol_x1 = det_A_1 / A.det() # Calculate x1\n",
        "print(\"\\nx1 = \", sol_x1) # Calculated value of x1\n",
        "\n",
        "# Define matrix A_2\n",
        "A_2 = A.copy() # Copy matrix A\n",
        "A_2[:, 1] = b # Replace the second column of A with vector b\n",
        "print(\"\\nA_2 =\", A_2) # Check if the replacement was successful\n",
        "det_A_2 = A_2.det() # Calculate determinant of A_2\n",
        "sol_x2 = det_A_2 / A.det() # Calculate x2\n",
        "print(\"\\nx2 = \", sol_x2) # Calculated value of x2\n",
        "\n",
        "sp.solve((eq1, eq2), (x1, x2))"
      ],
      "metadata": {
        "collapsed": true,
        "id": "jo8r2g7CFqpe",
        "outputId": "74a5d3c9-cc5d-4412-d6c8-eebd6f6cf3e2",
        "colab": {
          "base_uri": "https://localhost:8080/"
        }
      },
      "execution_count": 6,
      "outputs": [
        {
          "output_type": "stream",
          "name": "stdout",
          "text": [
            "A = Matrix([[2, -3], [3, 5]])\n",
            "\n",
            "Vecotr b = Matrix([[7], [2]])\n",
            "\n",
            "A_1 = Matrix([[7, -3], [2, 5]])\n",
            "\n",
            "x1 =  41/19\n",
            "\n",
            "A_2 = Matrix([[2, 7], [3, 2]])\n",
            "\n",
            "x2 =  -17/19\n"
          ]
        },
        {
          "output_type": "execute_result",
          "data": {
            "text/plain": [
              "{x1: 41/19, x2: -17/19}"
            ]
          },
          "metadata": {},
          "execution_count": 6
        }
      ]
    },
    {
      "cell_type": "code",
      "source": [
        "import sympy as sp\n",
        "\n",
        "# Define symbols\n",
        "x, y, z = sp.symbols('x y z')\n",
        "# Define the system of equations\n",
        "eq1 = sp.Eq(2*x + 1*y - 1*z, 1)\n",
        "eq2 = sp.Eq(1*x - 1*y + 2*z, 4)\n",
        "eq3 = sp.Eq(3*x + 0*y - 2*z, -1)\n",
        "# Coefficient matrix of the system\n",
        "A = sp.Matrix([[2, 1, -1], [1, -1, 2], [3, 0, -2]])\n",
        "# Free terms vector\n",
        "b = sp.Matrix([1, 4, 1])\n",
        "print(\"A =\", A)\n",
        "print(\"\\nVecotr b =\", b)\n",
        "\n",
        "# Define matrix A_1\n",
        "A_1 = A.copy()\n",
        "A_1[:, 0] = b\n",
        "print(\"\\nA_1 =\", A_1)\n",
        "det_A_1 = A_1.det()\n",
        "sol_x = det_A_1 / A.det()\n",
        "print(\"\\nx = \", sol_x)\n",
        "\n",
        "# Define matrix A_2\n",
        "A_2 = A.copy()\n",
        "A_2[:, 1] = b\n",
        "print(\"\\nA_2 =\", A_2)\n",
        "det_A_2 = A_2.det()\n",
        "sol_y = det_A_2 / A.det()\n",
        "print(\"\\ny = \", sol_y)\n",
        "\n",
        "# Define matrix A_3\n",
        "A_3 = A.copy()\n",
        "A_3[:, 2] = b\n",
        "print(\"\\nA_2 =\", A_3)\n",
        "det_A_3 = A_3.det()\n",
        "sol_z = det_A_3 / A.det()\n",
        "print(\"\\nz = \", sol_z)"
      ],
      "metadata": {
        "collapsed": true,
        "id": "UvXwGsdSHQ5g",
        "outputId": "b507525a-65c8-47d8-b015-1ea516bdacad",
        "colab": {
          "base_uri": "https://localhost:8080/"
        }
      },
      "execution_count": 7,
      "outputs": [
        {
          "output_type": "stream",
          "name": "stdout",
          "text": [
            "A = Matrix([[2, 1, -1], [1, -1, 2], [3, 0, -2]])\n",
            "\n",
            "Vecotr b = Matrix([[1], [4], [1]])\n",
            "\n",
            "A_1 = Matrix([[1, 1, -1], [4, -1, 2], [1, 0, -2]])\n",
            "\n",
            "x =  11/9\n",
            "\n",
            "A_2 = Matrix([[2, 1, -1], [1, 4, 2], [3, 1, -2]])\n",
            "\n",
            "y =  -1/9\n",
            "\n",
            "A_2 = Matrix([[2, 1, 1], [1, -1, 4], [3, 0, 1]])\n",
            "\n",
            "z =  4/3\n"
          ]
        }
      ]
    },
    {
      "cell_type": "code",
      "source": [
        "import sympy as sp\n",
        "\n",
        "# Define symbols\n",
        "x, y, z, t = sp.symbols('x y z t')\n",
        "# Define the system of equations\n",
        "eq1 = sp.Eq(1*x + 1*y + 1*z - 1*t, 2)\n",
        "eq2 = sp.Eq(1*x + 0*y - 1*z + 2*t, 6)\n",
        "eq3 = sp.Eq(2*x - 3*y + 0*z + 1*t, 4)\n",
        "eq4 = sp.Eq(3*x + 1*y + 3*z - 4*t, -2)\n",
        "# Coefficient matrix of the system\n",
        "A = sp.Matrix([[1, 1, 1, -1], [1, 0, -1, 2], [2, -3, 0, 1], [3, 1, 3, -4]])\n",
        "# Free terms vector\n",
        "b = sp.Matrix([2, 6, 4, -2])\n",
        "print(\"A =\", A)\n",
        "print(\"\\nVecotr b =\", b)\n",
        "\n",
        "# Define matrix A_1\n",
        "A_1 = A.copy()\n",
        "A_1[:, 0] = b\n",
        "print(\"\\nA_1 =\", A_1)\n",
        "det_A_1 = A_1.det()\n",
        "sol_x = det_A_1 / A.det()\n",
        "print(\"\\nx = \", sol_x)\n",
        "\n",
        "# Define matrix A_2\n",
        "A_2 = A.copy()\n",
        "A_2[:, 1] = b\n",
        "print(\"\\nA_2 =\", A_2)\n",
        "det_A_2 = A_2.det()\n",
        "sol_y = det_A_2 / A.det()\n",
        "print(\"\\ny = \", sol_y)\n",
        "\n",
        "# Define matrix A_3\n",
        "A_3 = A.copy()\n",
        "A_3[:, 2] = b\n",
        "print(\"\\nA_2 =\", A_3)\n",
        "det_A_3 = A_3.det()\n",
        "sol_z = det_A_3 / A.det()\n",
        "print(\"\\nz = \", sol_z)\n",
        "# Define matrix A_4\n",
        "A_4 = A.copy()\n",
        "A_4[:, 3] = b\n",
        "print(\"\\nA_4 =\", A_4)\n",
        "det_A_4 = A_4.det()\n",
        "sol_t = det_A_4 / A.det()\n",
        "print(\"\\nt = \", sol_t)\n",
        "sp.solve((eq1, eq2, eq3, eq4), (x, y, z, t))"
      ],
      "metadata": {
        "collapsed": true,
        "id": "PjLFeAMJHwbT",
        "outputId": "00fea649-b493-41f4-85f0-bb3dbcacb9a4",
        "colab": {
          "base_uri": "https://localhost:8080/"
        }
      },
      "execution_count": 8,
      "outputs": [
        {
          "output_type": "stream",
          "name": "stdout",
          "text": [
            "A = Matrix([[1, 1, 1, -1], [1, 0, -1, 2], [2, -3, 0, 1], [3, 1, 3, -4]])\n",
            "\n",
            "Vecotr b = Matrix([[2], [6], [4], [-2]])\n",
            "\n",
            "A_1 = Matrix([[2, 1, 1, -1], [6, 0, -1, 2], [4, -3, 0, 1], [-2, 1, 3, -4]])\n",
            "\n",
            "x =  1/2\n",
            "\n",
            "A_2 = Matrix([[1, 2, 1, -1], [1, 6, -1, 2], [2, 4, 0, 1], [3, -2, 3, -4]])\n",
            "\n",
            "y =  1\n",
            "\n",
            "A_2 = Matrix([[1, 1, 2, -1], [1, 0, 6, 2], [2, -3, 4, 1], [3, 1, -2, -4]])\n",
            "\n",
            "z =  13/2\n",
            "\n",
            "A_4 = Matrix([[1, 1, 1, 2], [1, 0, -1, 6], [2, -3, 0, 4], [3, 1, 3, -2]])\n",
            "\n",
            "t =  6\n"
          ]
        },
        {
          "output_type": "execute_result",
          "data": {
            "text/plain": [
              "{t: 6, x: 1/2, y: 1, z: 13/2}"
            ]
          },
          "metadata": {},
          "execution_count": 8
        }
      ]
    },
    {
      "cell_type": "code",
      "source": [
        "import sympy as sp\n",
        "\n",
        "# Define symbols\n",
        "x, y, z = sp.symbols('x y z')\n",
        "# Define the system of equations\n",
        "eq1 = sp.Eq(1*x + 2*y + 3*z, 3)\n",
        "eq2 = sp.Eq(4*x + 5*y + 6*z, 2)\n",
        "eq3 = sp.Eq(7*x + 8*y + 9*z, 1)\n",
        "# Coefficient matrix of the system\n",
        "A = sp.Matrix([[1,2,3], [4,5,6], [7,8,9]])\n",
        "# Free terms vector\n",
        "b = sp.Matrix([3,2,1])\n",
        "print(\"A =\", A)\n",
        "print(\"\\nVecotr b =\", b)\n",
        "det_A = A.det()\n",
        "print(\"\\nDeterminant of A =\", det_A)\n",
        "print(\"\\nCramer's rule  is not possible to apply here as far as these formulas are used only when the determinant of the coefficient matrix is non-zero. In our case determinant is equale to 0\")"
      ],
      "metadata": {
        "id": "Aibx-GLVIG21",
        "outputId": "f74ccd8d-4d9a-49aa-e373-b841ce3f1860",
        "colab": {
          "base_uri": "https://localhost:8080/"
        }
      },
      "execution_count": 10,
      "outputs": [
        {
          "output_type": "stream",
          "name": "stdout",
          "text": [
            "A = Matrix([[1, 2, 3], [4, 5, 6], [7, 8, 9]])\n",
            "\n",
            "Vecotr b = Matrix([[3], [2], [1]])\n",
            "\n",
            "Determinant of A = 0\n",
            "\n",
            "Cramer's rule  is not possible to apply here as far as these formulas are used only when the determinant of the coefficient matrix is non-zero. In our case determinant is equale to 0\n"
          ]
        }
      ]
    }
  ],
  "metadata": {
    "kernelspec": {
      "display_name": "Python 3",
      "language": "python",
      "name": "python3"
    },
    "language_info": {
      "codemirror_mode": {
        "name": "ipython",
        "version": 3
      },
      "file_extension": ".py",
      "mimetype": "text/x-python",
      "name": "python",
      "nbconvert_exporter": "python",
      "pygments_lexer": "ipython3",
      "version": "3.11.9"
    },
    "colab": {
      "provenance": []
    }
  },
  "nbformat": 4,
  "nbformat_minor": 0
}