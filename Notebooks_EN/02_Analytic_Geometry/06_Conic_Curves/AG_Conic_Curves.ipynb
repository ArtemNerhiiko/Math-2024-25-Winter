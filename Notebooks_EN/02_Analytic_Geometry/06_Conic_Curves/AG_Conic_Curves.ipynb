{
  "cells": [
    {
      "cell_type": "markdown",
      "metadata": {
        "id": "Ro7BR5o-3Qyp"
      },
      "source": [
        "# Tasks related to equations of lines on a plane\n",
        "\n",
        "\n",
        "## My notes\n",
        "\n",
        "\n",
        "> Add blockquote\n",
        "\n",
        "\n",
        "Unfortunetly I didn't make any notes, but I will do in the future\n"
      ]
    },
    {
      "cell_type": "markdown",
      "metadata": {
        "id": "Y_Y2EQPo3Qyu"
      },
      "source": [
        "## Student Exercises\n",
        "\n",
        "- The line passes through points $A(1,2)$ and $B(3,4)$. Find the equation of the line.\n",
        "- The line passes through points $A(1,2)$ and $B(3,4)$. Find the equation of the line.\n",
        "- The line passes through point $A(1,2)$ and is parallel to the line $y=2x+3$. Find the equation of the line.\n",
        "- The line passes through point $A(1,2)$ and is perpendicular to the line $y=2x+3$. Find the equation of the line.\n",
        "- We have two lines $y=2x+3$ and $y=3x+2$. Find the intersection point of these lines and calculate the angle between them.\n",
        "- Write the equation of the line passing through point $A(1,2)$ and parallel to the vector $v→=[2,3]$.\n",
        "- We have the line $y=2x+3$. Find an example of a line perpendicular and parallel to it.\n",
        "- We have the line $y=2x+3$ and point $A(1,2)$. Find the distance from point A to the line.\n",
        "- The line intersects the coordinate axes at points $A(2,0)$ and $B(0,3)$. Find the equation of the line.\n",
        "- Calculate the angle between the line $y=x+3$ and the $Ox$ axis.Provide a vector perpendicular to the line $x+y+1=0.$"
      ]
    },
    {
      "cell_type": "code",
      "source": [
        "# The line passes through points  A(1,2)  and  B(3,4) . Find the equation of the line.\n",
        "# Coordinates of points A and B\n",
        "x1, y1 = 1, 2\n",
        "x2, y2 = 3, 4\n",
        "\n",
        "m = (y2 - y1) / (x2 - x1) #Calculate the slope\n",
        "def equation_of_line(x):\n",
        "    return m * (x - x1) + y1\n",
        "\n",
        "print(f\"Slope of the line: {m}\")\n",
        "print(f\"Equation of the line: y = {m}(x - {x1}) + {y1}\")"
      ],
      "metadata": {
        "id": "Hyhy3cUo5J7-",
        "collapsed": true,
        "outputId": "9fed885b-a36c-48a9-d42c-7f236b9cd792",
        "colab": {
          "base_uri": "https://localhost:8080/"
        }
      },
      "execution_count": 1,
      "outputs": [
        {
          "output_type": "stream",
          "name": "stdout",
          "text": [
            "Slope of the line: 1.0\n",
            "Equation of the line: y = 1.0(x - 1) + 2\n"
          ]
        }
      ]
    },
    {
      "cell_type": "code",
      "source": [
        "# The line passes through point  A(1,2)  and is parallel to the line  y=2x+3 . Find the equation of the line.\n",
        "x1, y1 = 1, 2\n",
        "\n",
        "# Slope of the line\n",
        "m = 2\n",
        "\n",
        "# Point-slope form: y - y1 = m(x - x1)\n",
        "c = y1 - m * x1\n",
        "\n",
        "print(f\"The equation of the line is: y = {m}x + {c}\")"
      ],
      "metadata": {
        "collapsed": true,
        "id": "4_PDb1eDoFeP",
        "outputId": "400ebc95-25c0-4a32-df49-efd18158d325",
        "colab": {
          "base_uri": "https://localhost:8080/"
        }
      },
      "execution_count": 1,
      "outputs": [
        {
          "output_type": "stream",
          "name": "stdout",
          "text": [
            "The equation of the line is: y = 2x + 0\n"
          ]
        }
      ]
    },
    {
      "cell_type": "code",
      "source": [
        "#The line passes through point  A(1,2)  and is perpendicular to the line  y=2x+3 . Find the equation of the line.\n",
        "x1, y1 = 1, 2\n",
        "\n",
        "# Slope of the line\n",
        "m = 2\n",
        "\n",
        "# Slope of the perpendicular line\n",
        "m_perpendicular = -1 / m\n",
        "\n",
        "# Calculate the y-intercept (c) using point-slope form\n",
        "c = y1 - m_perpendicular * x1\n",
        "\n",
        "# Display the equation of the perpendicular line\n",
        "print(f\"The equation of the line is: y = {m_perpendicular}x + {c}\")"
      ],
      "metadata": {
        "collapsed": true,
        "id": "6b6GEsslFzdH",
        "outputId": "5ddfeb35-7857-47e3-b643-500b80ff9838",
        "colab": {
          "base_uri": "https://localhost:8080/"
        }
      },
      "execution_count": 3,
      "outputs": [
        {
          "output_type": "stream",
          "name": "stdout",
          "text": [
            "The equation of the line is: y = -0.5x + 2.5\n"
          ]
        }
      ]
    },
    {
      "cell_type": "code",
      "source": [
        "#We have two lines  y=2x+3  and  y=3x+2 . Find the intersection point of these lines and calculate the angle between them.\n",
        "import math\n",
        "\n",
        "# Define the slopes and y-intercepts of the lines\n",
        "a1, b1 = 2, 3\n",
        "a2, b2 = 3, 2\n",
        "\n",
        "#Lets find the intersection point\n",
        "x_intersection = (b2 - b1) / (a1 - a2)\n",
        "y_intersection = a1 * x_intersection + b1\n",
        "\n",
        "#Then calculate the angle between the lines\n",
        "angle_radians = math.atan(abs((a2 - a1) / (1 + a1 * a2)))\n",
        "angle_degrees = math.degrees(angle_radians)\n",
        "\n",
        "print(f\"The intersection point of the lines is: ({x_intersection}, {y_intersection})\")\n",
        "print(f\"The angle between the lines is: {angle_degrees:.2f} degrees\")"
      ],
      "metadata": {
        "collapsed": true,
        "id": "6daWbbcxI_iX",
        "outputId": "233698a7-ae77-40fd-ea45-2013fe310553",
        "colab": {
          "base_uri": "https://localhost:8080/"
        }
      },
      "execution_count": 11,
      "outputs": [
        {
          "output_type": "stream",
          "name": "stdout",
          "text": [
            "The intersection point of the lines is: (1.0, 5.0)\n",
            "The angle between the lines is: 8.13 degrees\n"
          ]
        }
      ]
    },
    {
      "cell_type": "code",
      "source": [
        "#Write the equation of the line passing through point  A(1,2)  and parallel to the vector  v→=[2,3] .\n",
        "x1, y1 = 1, 2\n",
        "x2, y2 = 2, 3\n",
        "\n",
        "# Parametric equation\n",
        "print(\"Parametric equation of the line:\")\n",
        "print(f\"x = {x1} + t * {x2}\")\n",
        "print(f\"y = {y1} + t * {y2}\")\n",
        "\n",
        "# Symmetric equation\n",
        "print(\"\\nSymmetric equation of the line:\")\n",
        "print(f\"(x - {x1}) / {x2} = (y - {y1}) / {y2}\")"
      ],
      "metadata": {
        "collapsed": true,
        "id": "SVWiM7G2JlSt",
        "outputId": "3a1296ba-ee7a-458c-f83c-1ee768bcc4fa",
        "colab": {
          "base_uri": "https://localhost:8080/"
        }
      },
      "execution_count": 12,
      "outputs": [
        {
          "output_type": "stream",
          "name": "stdout",
          "text": [
            "Parametric equation of the line:\n",
            "x = 1 + t * 2\n",
            "y = 2 + t * 3\n",
            "\n",
            "Symmetric equation of the line:\n",
            "(x - 1) / 2 = (y - 2) / 3\n"
          ]
        }
      ]
    },
    {
      "cell_type": "code",
      "source": [
        "#We have the line  y=2x+3 . Find an example of a line perpendicular and parallel to it.\n",
        "# Slope of the given line\n",
        "m = 2\n",
        "\n",
        "# A parallel line has the same slope, but a different y-intercept\n",
        "c_parallel = 5\n",
        "print(f\"An example of a parallel line: y = {m}x + {c_parallel}\")\n",
        "\n",
        "# A perpendicular line has the negative reciprocal slope\n",
        "m_perpendicular = -1 / m\n",
        "c_perpendicular = -1  # Example: y = -1/2x - 1\n",
        "print(f\"An example of a perpendicular line: y = {m_perpendicular}x + {c_perpendicular}\")"
      ],
      "metadata": {
        "collapsed": true,
        "id": "GXfKubbCPj7C",
        "outputId": "86564ca1-953d-4008-8e69-ddbc8a6a18db",
        "colab": {
          "base_uri": "https://localhost:8080/"
        }
      },
      "execution_count": 8,
      "outputs": [
        {
          "output_type": "stream",
          "name": "stdout",
          "text": [
            "An example of a parallel line: y = 2x + 5\n",
            "An example of a perpendicular line: y = -0.5x + -1\n"
          ]
        }
      ]
    },
    {
      "cell_type": "code",
      "source": [
        "#We have the line  y=2x+3  and point  A(1,2) . Find the distance from point A to the line\n"
      ],
      "metadata": {
        "id": "cLChlfp5TFqH"
      },
      "execution_count": null,
      "outputs": []
    }
  ],
  "metadata": {
    "kernelspec": {
      "display_name": ".venv",
      "language": "python",
      "name": "python3"
    },
    "language_info": {
      "codemirror_mode": {
        "name": "ipython",
        "version": 3
      },
      "file_extension": ".py",
      "mimetype": "text/x-python",
      "name": "python",
      "nbconvert_exporter": "python",
      "pygments_lexer": "ipython3",
      "version": "3.11.9"
    },
    "colab": {
      "provenance": []
    }
  },
  "nbformat": 4,
  "nbformat_minor": 0
}