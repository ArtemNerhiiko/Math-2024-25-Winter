{
  "cells": [
    {
      "cell_type": "markdown",
      "source": [
        "## Tasks related to conic sections\n",
        "\n",
        "**Visualize each task.** - Python, GeoGebra, Wolfram Alpha, ...\n",
        "\n",
        "* Find the equation of a circle with center at point $A(1,2)$ and radius $r=3$.\n",
        "* Find the equation of a parabola intersecting the $Ox$ axis at points $x=2$, $x=4$, and passing through point $y(3)=1$.\n",
        "* Find the center of the ellipse with the equation $x^2 + 4y^2 - 4x - 16y + 16 = 0$.\n",
        "* Find the slope ($m>0$) of the line $y=mx-5$ that is tangent to the circle with the equation $x^2 + y^2=1$.\n",
        "* Find the intersection points of the hyperbola $x^2 - y^2 = 1$ with the ellipse's line $x^2 + 4y^2 = 6$.\n",
        "* For the given hyperbola $x^2 - y^2 = 1$, find the distance between its branches."
      ],
      "metadata": {
        "id": "WQ5_gwZv5tKC"
      }
    }
  ],
  "metadata": {
    "kernelspec": {
      "display_name": ".venv",
      "language": "python",
      "name": "python3"
    },
    "language_info": {
      "codemirror_mode": {
        "name": "ipython",
        "version": 3
      },
      "file_extension": ".py",
      "mimetype": "text/x-python",
      "name": "python",
      "nbconvert_exporter": "python",
      "pygments_lexer": "ipython3",
      "version": "3.11.9"
    },
    "colab": {
      "provenance": []
    }
  },
  "nbformat": 4,
  "nbformat_minor": 0
}