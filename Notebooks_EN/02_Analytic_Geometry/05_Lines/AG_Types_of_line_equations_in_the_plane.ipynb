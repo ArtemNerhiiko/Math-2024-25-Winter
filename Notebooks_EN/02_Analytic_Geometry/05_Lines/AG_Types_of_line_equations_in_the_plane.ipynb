{
  "cells": [
    {
      "cell_type": "markdown",
      "metadata": {
        "id": "Ro7BR5o-3Qyp"
      },
      "source": [
        "# Tasks related to equations of lines on a plane\n",
        "\n",
        "\n",
        "## My notes\n",
        "\n",
        "\n",
        "> Add blockquote\n",
        "\n",
        "\n",
        "Unfortunetly I didn't make any notes, but I will do in the future\n"
      ]
    },
    {
      "cell_type": "markdown",
      "metadata": {
        "id": "Y_Y2EQPo3Qyu"
      },
      "source": [
        "## Student Exercises\n",
        "\n",
        "- The line passes through points $A(1,2)$ and $B(3,4)$. Find the equation of the line.\n",
        "- The line passes through points $A(1,2)$ and $B(3,4)$. Find the equation of the line.\n",
        "- The line passes through point $A(1,2)$ and is parallel to the line $y=2x+3$. Find the equation of the line.\n",
        "- The line passes through point $A(1,2)$ and is perpendicular to the line $y=2x+3$. Find the equation of the line.\n",
        "- We have two lines $y=2x+3$ and $y=3x+2$. Find the intersection point of these lines and calculate the angle between them.\n",
        "- Write the equation of the line passing through point $A(1,2)$ and parallel to the vector $v→=[2,3]$.\n",
        "- We have the line $y=2x+3$. Find an example of a line perpendicular and parallel to it.\n",
        "- We have the line $y=2x+3$ and point $A(1,2)$. Find the distance from point A to the line.\n",
        "- The line intersects the coordinate axes at points $A(2,0)$ and $B(0,3)$. Find the equation of the line.\n",
        "- Calculate the angle between the line $y=x+3$ and the $Ox$ axis.Provide a vector perpendicular to the line $x+y+1=0.$"
      ]
    },
    {
      "cell_type": "code",
      "source": [
        "# The line passes through points  A(1,2)  and  B(3,4) . Find the equation of the line."
      ],
      "metadata": {
        "id": "Hyhy3cUo5J7-"
      },
      "execution_count": null,
      "outputs": []
    }
  ],
  "metadata": {
    "kernelspec": {
      "display_name": ".venv",
      "language": "python",
      "name": "python3"
    },
    "language_info": {
      "codemirror_mode": {
        "name": "ipython",
        "version": 3
      },
      "file_extension": ".py",
      "mimetype": "text/x-python",
      "name": "python",
      "nbconvert_exporter": "python",
      "pygments_lexer": "ipython3",
      "version": "3.11.9"
    },
    "colab": {
      "provenance": []
    }
  },
  "nbformat": 4,
  "nbformat_minor": 0
}