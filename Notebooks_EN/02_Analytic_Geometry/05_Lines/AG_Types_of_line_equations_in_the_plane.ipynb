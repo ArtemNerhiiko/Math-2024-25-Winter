{
  "cells": [
    {
      "cell_type": "markdown",
      "metadata": {
        "id": "Ro7BR5o-3Qyp"
      },
      "source": [
        "# Types of line equations in the plane.\n",
        "\n",
        "\n",
        "## My notes\n",
        "\n",
        "Unfortunetly I didn't make any notes, but I will do in the future\n"
      ]
    },
    {
      "cell_type": "markdown",
      "metadata": {
        "id": "Y_Y2EQPo3Qyu"
      },
      "source": [
        "## Student Exercises\n",
        "\n",
        "- The line passes through points $A(1,2)$ and $B(3,4)$. Find the equation of the line."
      ]
    },
    {
      "cell_type": "code",
      "source": [
        "# The line passes through points  A(1,2)  and  B(3,4) . Find the equation of the line."
      ],
      "metadata": {
        "id": "Hyhy3cUo5J7-"
      },
      "execution_count": null,
      "outputs": []
    }
  ],
  "metadata": {
    "kernelspec": {
      "display_name": ".venv",
      "language": "python",
      "name": "python3"
    },
    "language_info": {
      "codemirror_mode": {
        "name": "ipython",
        "version": 3
      },
      "file_extension": ".py",
      "mimetype": "text/x-python",
      "name": "python",
      "nbconvert_exporter": "python",
      "pygments_lexer": "ipython3",
      "version": "3.11.9"
    },
    "colab": {
      "provenance": []
    }
  },
  "nbformat": 4,
  "nbformat_minor": 0
}