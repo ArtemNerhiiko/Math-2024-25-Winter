{
  "nbformat": 4,
  "nbformat_minor": 0,
  "metadata": {
    "colab": {
      "provenance": []
    },
    "kernelspec": {
      "name": "python3",
      "display_name": "Python 3"
    },
    "language_info": {
      "name": "python"
    }
  },
  "cells": [
    {
      "cell_type": "markdown",
      "source": [
        "* Write the equation of a sphere with center at point $P=(1,2,3)$ and radius $r=3$.\n",
        "* Do the spheres with equations $x^2 + y^2 + z^2 = 1$ and $x^2 + y^2 + z^2 = 2$ have any common points?\n",
        "* What curve in space is formed by the intersection of the sphere $x^2 + y^2 + z^2 = 1$ with the sphere $(x-1)^2 + y^2 + z^2 = 1$? Find the equation of this curve.\n",
        "* Write the equation of the tangent plane to the paraboloid $z=(x-1)^2+y^2+1$ at point $P(1,0,1)$."
      ],
      "metadata": {
        "id": "BfdLq-BjVTGk"
      }
    },
    {
      "cell_type": "markdown",
      "source": [
        "##1.  Write the equation of a sphere with center at point $P=(1,2,3)$ and radius $r=3$."
      ],
      "metadata": {
        "id": "NTWKTtbaVT2V"
      }
    },
    {
      "cell_type": "markdown",
      "source": [
        "The formula of a sphere with center (a,b,c) and radius r is:\n",
        "\n",
        "$(x-a)^2+(y-b)^2+(z-c)^2=r^2$\n",
        "\n",
        "Center $P = (1,2,3)$\n",
        "\n",
        "Radius $r=3$"
      ],
      "metadata": {
        "id": "0R0mGuKSVYsg"
      }
    },
    {
      "cell_type": "markdown",
      "source": [
        "Next we subtitute:\n",
        "\n",
        "$(x-1)^2+(y-2)^2+(z-3)^2=3^2$\n",
        "\n",
        "$(x-1)^2+(y-2)^2+(z-3)^2=9$"
      ],
      "metadata": {
        "id": "7WdYOPhgWCxB"
      }
    },
    {
      "cell_type": "markdown",
      "source": [
        "##2. Do the spheres with equations $x^2 + y^2 + z^2 = 1$ and $x^2 + y^2 + z^2 = 2$ have any common points?\n",
        "\n"
      ],
      "metadata": {
        "id": "HN7ThoWTWRxx"
      }
    },
    {
      "cell_type": "markdown",
      "source": [
        "Firsrt sphere is centered in point $(0,0,0)$ with radius $r_1 = \\sqrt1= 1$\n",
        "\n",
        "Second sphere is also centered in point $(0,0,0)$ with radius $r_2 = \\sqrt2$"
      ],
      "metadata": {
        "id": "BnELxJVGWyac"
      }
    },
    {
      "cell_type": "markdown",
      "source": [
        "Since both spheres have the same center  they are concentric spheres. So they have no intersection points, as a smaller sphere lies completely inside the larger one."
      ],
      "metadata": {
        "id": "X-Sw7SxhXWOz"
      }
    },
    {
      "cell_type": "markdown",
      "source": [
        "##3. What curve in space is formed by the intersection of the sphere $x^2 + y^2 + z^2 = 1$ with the sphere $(x-1)^2 + y^2 + z^2 = 1$? Find the equation of this curve."
      ],
      "metadata": {
        "id": "au08jcqVXi9W"
      }
    },
    {
      "cell_type": "markdown",
      "source": [
        "The first sphere is centered at $(0,0,0)$, $r_1=1$\n",
        "\n",
        "The second sphere is centered at $(1,0,0)$, $r_2=1$"
      ],
      "metadata": {
        "id": "dCu3e54IXnmr"
      }
    },
    {
      "cell_type": "markdown",
      "source": [
        "1. We need to find the intersetion. First we subtract two equations.\n",
        "\n",
        "$ (x-1)^2 + y^2 + z^2 - (x^2 + y^2 + z^2) = x^2-2x+1+y^2+z^2-x^2-y^2-z^2=1-1-2x+1=0$\n",
        "\n",
        "$x=\\frac{1}{2}$\n"
      ],
      "metadata": {
        "id": "KHaROYc7YEuv"
      }
    },
    {
      "cell_type": "markdown",
      "source": [
        "The intersection is the set of points satisfying $x=\\frac{1}{2}$. Substitute %x=\\frac{1}{2}$ into the first sphere equation:\n",
        "\n",
        "$(\\frac{1}{2})^2 + y^2 + z^2 = 1$\n",
        "\n",
        "$\\frac{1}{4} + y^2 + z^2 = 1$\n",
        "\n",
        "$y^2+z^2=\\frac{3}{4}$\n",
        "\n",
        "We got the intersection is a circle in the plane $x=\\frac{1}{2}$\n"
      ],
      "metadata": {
        "id": "Suc_KNa1a4Gb"
      }
    },
    {
      "cell_type": "markdown",
      "source": [
        "##4.Write the equation of the tangent plane to the paraboloid $z=(x-1)^2+y^2+1$ at point $P(1,0,1)$."
      ],
      "metadata": {
        "id": "6NVSP92bbr30"
      }
    },
    {
      "cell_type": "markdown",
      "source": [
        "1. Fisrt we find partial derivatives:\n",
        "\n",
        "The equation of the tangent plane at a point$(x_0,y_0,z_0)$for a surface given by $z=f(x,y)$ is $z-z_0 = f_x(x_0,y_0)(x-x_0)+f_y(x_0,y_0)(y-y_0)$ where f_x and f_y are partial derivatives of $f(x,y)$"
      ],
      "metadata": {
        "id": "LUqPu9O9bvg1"
      }
    },
    {
      "cell_type": "markdown",
      "source": [
        "$z=(x-1)^2+y^2+1$\n",
        "\n",
        "$f_x=\\frac{d}{dy}[(x-1)^2+y^2+1]=2y$\n",
        "\n",
        "$f_x(1,0) = 2(1-1)=0$\n",
        "\n",
        "$f_y(1,0)= 2(0)=0$"
      ],
      "metadata": {
        "id": "azvgsfe9eBgr"
      }
    },
    {
      "cell_type": "markdown",
      "source": [
        "2. Tangent Plane Equation using the point (1,0,1):\n",
        "\n",
        "$z-1=0(x-1)+0(y-0)$\n",
        "\n",
        "$z-1=0, z=1$\n",
        "\n",
        "The tangent plane is a horizontal plane at $z=1$"
      ],
      "metadata": {
        "id": "0Yemgg0RehVD"
      }
    }
  ]
}