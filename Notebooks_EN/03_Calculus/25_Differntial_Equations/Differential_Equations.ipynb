{
  "nbformat": 4,
  "nbformat_minor": 0,
  "metadata": {
    "colab": {
      "provenance": []
    },
    "kernelspec": {
      "name": "python3",
      "display_name": "Python 3"
    },
    "language_info": {
      "name": "python"
    }
  },
  "cells": [
    {
      "cell_type": "markdown",
      "source": [
        "##1. Solve the following first-order ordinary differential equations:\n",
        "   - $y'(x)= y$\n",
        "   - $y'(x) = \\frac{1}{2y(x)}$"
      ],
      "metadata": {
        "id": "dKkV5gCOPRrt"
      }
    },
    {
      "cell_type": "markdown",
      "source": [
        "1. $y'(x)= y$\n",
        "\n",
        "   First we rewrite the equation:\n",
        "\n",
        "   $\\frac{dy}{dx} = y$\n",
        "\n",
        "   $\\frac{dy}{y} = dx$\n",
        "   \n",
        "\n",
        "2. Next integrate both sides:\n",
        "   \n",
        "   $\\int\\frac{dy}{y} = \\int dx$\n",
        "   \n",
        "   $ln|y(x)| = x + C$\n",
        "\n",
        "4. Solve for $y(x)$:\n",
        "\n",
        "   $|y(x)| = e^{(x + C)}$\n",
        "\n",
        "   $|y(x)| = e^C * e^x$\n",
        "\n",
        "   $Let$ $A$ = $e^C$ (where A is a constant):\n",
        "   \n",
        "   $|y(x)| = A * e^x$\n",
        "\n",
        "5. Since A can be positive or negative, the solution is:\n",
        "\n",
        "   $y(x) = A * e^x$, where A is a constant"
      ],
      "metadata": {
        "id": "hgAdZkjTPYG6"
      }
    },
    {
      "cell_type": "markdown",
      "source": [
        "1. $y'(x) = \\frac{1}{2y(x)}$\n",
        "\n",
        "\n",
        "2. Separate the variables:\n",
        "   \n",
        "   $2y(x) dy = dx$\n",
        "\n",
        "3. Integrate both sides:\n",
        "   \n",
        "   $∫ 2y(x) dy = ∫ dx$\n",
        "\n",
        "   $y(x)^2 = x + C$\n",
        "\n",
        "4. Solve for y(x):\n",
        "   \n",
        "   $y(x) = ± \\sqrt(x + C)$, where C is a constant"
      ],
      "metadata": {
        "id": "oCkgYwy_WbUn"
      }
    },
    {
      "cell_type": "markdown",
      "source": [
        "$Results:$\n",
        "\n",
        "$1. A * e^x$, where A is a constant\n",
        "\n",
        "$2. y(x) = ± \\sqrt(x + C)$, where C is a constant"
      ],
      "metadata": {
        "id": "huldkW8eXDhC"
      }
    },
    {
      "cell_type": "markdown",
      "source": [
        "##3. Solve the first-order ordinary differential equations using the method of separation of variables for $x$ and $y=y(x)$:\n",
        "\n",
        "   - $\\frac{dy}{dx} = \\frac{x}{y}$\n",
        "   \n",
        "   - $\\frac{dy}{dx} = \\frac{y}{x}$\n",
        "   \n",
        "   - $\\frac{dy}{dx} = xy$"
      ],
      "metadata": {
        "id": "-kC97qjgXvun"
      }
    },
    {
      "cell_type": "markdown",
      "source": [
        "1. - $\\frac{dy}{dx} = \\frac{x}{y}$\n",
        "\n",
        "  Fisrt we separate the variables:\n",
        "   \n",
        "   $y \\cdot dy = x \\cdot dx$\n",
        "\n",
        "3. Next integrate both sides:\n",
        "   \n",
        "   $\\int y dy = \\int x dx$\n",
        "\n",
        "   $\\frac{y^2}{2} = \\frac{x^2}{2} + C$ $|\\cdot 2$\n",
        "\n",
        "4. Solve for y:\n",
        "\n",
        "   $y^2 = x^2 + C'$\n",
        "\n",
        "   where $C' = 2C$ is the new constant.\n",
        "\n",
        "   $y = ± \\sqrt(x^2 + C')$"
      ],
      "metadata": {
        "id": "31bCJOToXyUy"
      }
    },
    {
      "cell_type": "markdown",
      "source": [
        "1. - $\\frac{dy}{dx} = \\frac{y}{x}$\n",
        "\n",
        "  First we separate the variables:\n",
        "  \n",
        "  $\\frac{1}{y} dy = \\frac{1}{x} dx$\n",
        "\n",
        "3. Integrate both sides:\n",
        "\n",
        "   $\\frac{dy}{y} = \\frac{dx}{x}$\n",
        "\n",
        "   $ln|y| = ln|x| + C$\n",
        "\n",
        "4. Solve for y:\n",
        "\n",
        "  $y = A * x$\n",
        "   \n",
        "  where $A = e^C$ (constant)"
      ],
      "metadata": {
        "id": "vgc-MX-EZiYH"
      }
    },
    {
      "cell_type": "markdown",
      "source": [
        "1. - $\\frac{dy}{dx} = xy$\n",
        "\n",
        "  First separate the variables:\n",
        "\n",
        "   $\\frac{1}{y} dy = x dx$\n",
        "\n",
        "3. Integrate both sides:\n",
        "\n",
        "   $\\int\\frac{1}{y} dy = \\int x dx$\n",
        "\n",
        "   $ln|y| = \\frac {x^2}{2} + C$\n",
        "\n",
        "4. Solve for y:\n",
        "\n",
        "   $y = A * e^{\\frac{x^2}{2}}$\n",
        "\n",
        "   where $A = e^C$ (constant)"
      ],
      "metadata": {
        "id": "plqRfDdLaP_O"
      }
    },
    {
      "cell_type": "markdown",
      "source": [
        "$Results$\n",
        "\n",
        "1. $y = ± \\sqrt(x^2 + C')$\n",
        "2. $y = A * x$\n",
        "3. $y = A * e^{\\frac{x^2}{2}}$"
      ],
      "metadata": {
        "id": "OlWQ6I8ja0Gi"
      }
    },
    {
      "cell_type": "markdown",
      "source": [
        "#4. Solve the second-order ordinary differential equations:\n",
        "\n",
        "   * $y''(x) + y'(x) = 0$, with boundary conditions $y(0) = 2$ and $y'(0) = -1$\n",
        "\n",
        "   * $y''(x) - y(x)= 0$, with boundary conditions $y(0) = 2$ and $y'(0) = 0$\n",
        "\n",
        "   * $\\frac{d^2\\,y(x)}{dx^2} = -\\omega^2 y(x)$."
      ],
      "metadata": {
        "id": "BGQzTw1fbEjs"
      }
    },
    {
      "cell_type": "markdown",
      "source": [
        "##* $y''(x) + y'(x) = 0$, with boundary conditions $y(0) = 2$ and $y'(0) = -1$"
      ],
      "metadata": {
        "id": "36UPhq2qu4OW"
      }
    },
    {
      "cell_type": "markdown",
      "source": [
        "1. $y''(x) + y'(x) = 0$\n",
        "\n",
        "   First we substitute $y(x) = e^rx$ into the ordinary differential equations:\n",
        "\n",
        "   $r^2 e^{rx} + re^{rx} = 0$ -> $e^{rx}(r^2+r) = 0$\n",
        "\n",
        "   Since $e^rx$ does not equal $0$\n",
        "\n",
        "   $r(r + 1) = 0$\n",
        "      \n",
        "   $Roots: r = 0, r = -1$\n",
        "\n"
      ],
      "metadata": {
        "id": "CPFBfh83nXqq"
      }
    },
    {
      "cell_type": "markdown",
      "source": [
        "  2. General solution:\n",
        "   \n",
        "      $y(x) = C1 + C2 * e^(-x)$\n",
        "\n",
        "  3. Apply boundary conditions:\n",
        "   $- y(0) = 2:$\n",
        "\n",
        "     $C1 + C2 = 2$\n",
        "   \n",
        "   $- y'(0) = -1:$\n",
        "     \n",
        "     $-C2 = -1  →  C2 = 1$\n",
        "\n",
        "   From $C1 + C2 = 2:$\n",
        "\n",
        "     $C1 + 1 = 2  →  C1 = 1$"
      ],
      "metadata": {
        "id": "Hbp2ylamtYPn"
      }
    },
    {
      "cell_type": "markdown",
      "source": [
        "  4. Final solution:\n",
        "   \n",
        "  $y(x) = 1 + e^{-x}$"
      ],
      "metadata": {
        "id": "GyI0m1aPta0a"
      }
    },
    {
      "cell_type": "markdown",
      "source": [
        "##* $y''(x) - y(x)= 0$, with boundary conditions $y(0) = 2$ and $y'(0) = 0$\n"
      ],
      "metadata": {
        "id": "3vpNLRARu8qa"
      }
    },
    {
      "cell_type": "markdown",
      "source": [
        "\n",
        "  1. $y''(x) - y(x) = 0$\n",
        "\n",
        "     First we substitute $y(x) = e^rx$ into the ordinary differential equations:\n",
        "\n",
        "     $r^2 e^{rx} - re^{rx} = 0$ -> $e^{rx}(r^2-r) = 0$\n",
        "\n",
        "     $r^2 - 1 = 0$\n",
        "   \n",
        "     $Roots: r = ±1$\n",
        "\n"
      ],
      "metadata": {
        "id": "H8DThLbssv0C"
      }
    },
    {
      "cell_type": "markdown",
      "source": [
        "  2. General solution:\n",
        "\n",
        "  $y(x) = C1 * e^x + C2 * e^{-x}$\n",
        "\n",
        "  3. Apply boundary conditions:\n",
        "\n",
        "  $- y(0) = 2:$\n",
        "\n",
        "  $C1 + C2 = 2$\n",
        "\n",
        "  $- y'(0) = 0:$\n",
        "\n",
        "  $C1 - C2 = 0  →  C1 = C2$\n",
        "\n",
        "  From $C1 + C2 = 2:$\n",
        "   \n",
        "  $2C1 = 2  →  C1 = 1, C2 = 1$"
      ],
      "metadata": {
        "id": "rOOPE832t1o3"
      }
    },
    {
      "cell_type": "markdown",
      "source": [
        "4. Final solution:\n",
        "\n",
        "   $y(x) = e^x + e^{-x}$"
      ],
      "metadata": {
        "id": "cF9zdiCuuRE2"
      }
    },
    {
      "cell_type": "markdown",
      "source": [
        "* $\\frac{d^2\\,y(x)}{dx^2} = -\\omega^2 y(x)$."
      ],
      "metadata": {
        "id": "ltAb0UBRuugu"
      }
    },
    {
      "cell_type": "markdown",
      "source": [
        "1.  $y''(x) = -ω^2 y(x)$\n",
        "\n",
        "    First we find the characteristic equation:\n",
        "\n",
        "    $r^2 + ω^2 = 0$\n",
        "\n",
        "    $Roots: r = ±iω$"
      ],
      "metadata": {
        "id": "D9Aoi8HZvHmt"
      }
    },
    {
      "cell_type": "markdown",
      "source": [
        "2. General solution:\n",
        "\n",
        "  $y(x) = C1 * cos(ωx) + C2 * sin(ωx)$\n",
        "\n",
        "  "
      ],
      "metadata": {
        "id": "xWxYOmXRvaCx"
      }
    },
    {
      "cell_type": "markdown",
      "source": [
        "3. Final solution:\n",
        "\n",
        "   $y(x) = C1 * cos(ωx) + C2 * sin(ωx)$\n",
        "   \n",
        "   (No boundary conditions provided)"
      ],
      "metadata": {
        "id": "ZVgiimyhvjrj"
      }
    },
    {
      "cell_type": "markdown",
      "source": [
        "##5. Check if the function $\\psi(t, x) = A \\cos(\\omega t + kx)$ is a solution of the second-order partial differential equation (the so-called \"wave equation\"), where $v = \\frac{\\omega}{k} = \\frac{2\\pi / T}{2\\pi / \\lambda}$:\n",
        "\n",
        "$$\n",
        "\\frac{\\partial^2 \\psi(t, x)}{\\partial t^2} - v^2 \\frac{\\partial^2 \\psi(t, x)}{\\partial x^2} = 0.\n",
        "$$"
      ],
      "metadata": {
        "id": "RqEeIkHlvoqV"
      }
    }
  ]
}