{
  "nbformat": 4,
  "nbformat_minor": 0,
  "metadata": {
    "colab": {
      "provenance": []
    },
    "kernelspec": {
      "name": "python3",
      "display_name": "Python 3"
    },
    "language_info": {
      "name": "python"
    }
  },
  "cells": [
    {
      "cell_type": "markdown",
      "source": [
        "## 22. Extremum\n",
        "\n",
        "6. The profit function is $P(u) = -2u^2 + 50u - 300$, where $u$ is the number of units sold. Find the number of units that maximize profit.\n",
        "\n",
        "7. You have 10 meters of string, and you need to use it to enclose the largest possible rectangular. Find the dimensions of the rectangle.\n",
        "\n",
        "8. Find extremum od $f(x) = x^2 + 3x - 5$.\n",
        "\n",
        "9. Find extremum of $f(x) =\\frac{x^2+2x+1}{x-1}$."
      ],
      "metadata": {
        "id": "o-eVP8b9dHLU"
      }
    },
    {
      "cell_type": "markdown",
      "source": [
        "6. The profit function is $P(u) = -2u^2 + 50u - 300$, where $u$ is the number of units sold. Find the number of units that maximize profit.\n",
        "\n",
        "  $P(u) = -2u^2 + 50u - 300$ = $-au^2 + bu + c$\n",
        "\n",
        "  $u = \\frac{-b}{2a}$\n",
        "\n",
        "  $a = −2,b = 50,c  =−300$\n",
        "\n",
        "  $u = \\frac{-50}{2(-2)} = \\frac{-50}{-4} = 12.5$\n",
        "\n",
        "  $u = 12.5$"
      ],
      "metadata": {
        "id": "m0Sin1yvdIn3"
      }
    },
    {
      "cell_type": "markdown",
      "source": [
        "7. You have 10 meters of string, and you need to use it to enclose the largest possible rectangular. Find the dimensions of the rectangle.\n",
        "\n",
        "  $2x + 2y = 10 ⟹ x + y = 5$\n",
        "\n",
        "  $y = 5 − x$\n",
        "\n",
        "  $S = x(5−x) = 5x − x$ ; $a = -1, b = 5$\n",
        "\n",
        "  $x = \\frac{-b}{2a} = \\frac{-5}{2(-1)} = \\frac{5}{2} = 2.5$\n",
        "\n",
        "  $y = 5−x = 5 − 2.5 = 2.5$\n",
        "\n",
        "\n",
        "\n",
        "\n"
      ],
      "metadata": {
        "id": "zA1lFaYxeceG"
      }
    },
    {
      "cell_type": "markdown",
      "source": [
        "8. Find extremum od $f(x) = x^2 + 3x - 5$.\n",
        "\n",
        "$f'(x) = 2x + 3$\n",
        "\n",
        "$x = \\frac{-3}{2}$\n",
        "\n",
        "$f''(x) = 2$\n",
        "\n",
        "$As f''(x) = 2 > 0, min = \\frac{-3}{2}$\n",
        "\n",
        "$f(\\frac{-3}{2}) = (\\frac{-3}{2})^2 + 3(\\frac{-3}{2}) - 5$\n",
        "\n",
        "$f(\\frac{-3}{2}) = \\frac{9}{4} - \\frac{9}{2} - 5 = \\frac{-29}{4}$\n",
        "\n",
        "$(\\frac{-3}{2}; \\frac{-29}{4})$\n",
        "\n"
      ],
      "metadata": {
        "id": "85Er30PMfLfQ"
      }
    },
    {
      "cell_type": "markdown",
      "source": [
        "9. Find extremum of $f(x) =\\frac{x^2+2x+1}{x-1}$\n",
        "\n",
        "  $f(x) = \\frac{(x+1)^2}{x-1}$\n",
        "\n",
        "  $f'(x) = \\frac{(x-1)*(x+1)^2 - (x+1)^2*(x-1)}{(x-1)^2}$\n",
        "\n",
        "  $((x+1)^2)' = 2(x+1)$\n",
        "\n",
        "  $(x-1)' = 1$\n",
        "\n",
        "  $f'(x) = \\frac{(x−1)⋅2(x+1)−(x+1)^2*1}{(x-1)^2}$\n",
        "\n",
        "  $(x−1)⋅2(x+1)−(x+1)^2 = 2x(x+1)−2(x+1)−(x+1)^2 = (x+1)(2x−2−(x+1))$\n",
        "\n",
        "  $(x+1)(2x−2−x−1)=(x+1)(x−3)$\n",
        "\n",
        "  $f'(x) = {(x+1)(x−3)}{(x-1)^2}$\n",
        "\n",
        "  $(x+1) = (x-3) = 0, x = -1, x = 3$\n",
        "\n",
        "  $(x-1)^2 does not equal 0$\n",
        "\n",
        "  $If x∈(−∞,−1): f'(x)>0$\n",
        "\n",
        "  $If x∈(-1, 3): f'(x)<0$\n",
        "\n",
        "  $If x∈(3, ∞): f'(x)>0$\n",
        "\n",
        "  $max(x) = -1, min(x) = 3$\n",
        "\n",
        "\n",
        "\n"
      ],
      "metadata": {
        "id": "DJT18AOQgokD"
      }
    }
  ]
}