{
  "nbformat": 4,
  "nbformat_minor": 0,
  "metadata": {
    "colab": {
      "provenance": []
    },
    "kernelspec": {
      "name": "python3",
      "display_name": "Python 3"
    },
    "language_info": {
      "name": "python"
    }
  },
  "cells": [
    {
      "cell_type": "markdown",
      "source": [
        "##1. Solve the following first-order ordinary differential equations:\n",
        "   - $y'(x)= y$\n",
        "   - $y'(x) = \\frac{1}{2y(x)}$"
      ],
      "metadata": {
        "id": "dKkV5gCOPRrt"
      }
    },
    {
      "cell_type": "markdown",
      "source": [
        "1. $y'(x)= y$\n",
        "\n",
        "   First we rewrite the equation:\n",
        "\n",
        "   $\\frac{dy}{dx} = y$\n",
        "\n",
        "   $\\frac{dy}{y} = dx$\n",
        "   \n",
        "\n",
        "2. Next integrate both sides:\n",
        "   \n",
        "   $\\int\\frac{dy}{y} = \\int dx$\n",
        "   \n",
        "   $ln|y(x)| = x + C$\n",
        "\n",
        "4. Solve for $y(x)$:\n",
        "\n",
        "   $|y(x)| = e^{(x + C)}$\n",
        "\n",
        "   $|y(x)| = e^C * e^x$\n",
        "\n",
        "   $Let$ $A$ = $e^C$ (where A is a constant):\n",
        "   \n",
        "   $|y(x)| = A * e^x$\n",
        "\n",
        "5. Since A can be positive or negative, the solution is:\n",
        "\n",
        "   $y(x) = A * e^x$, where A is a constant"
      ],
      "metadata": {
        "id": "hgAdZkjTPYG6"
      }
    },
    {
      "cell_type": "markdown",
      "source": [
        "1. $y'(x) = \\frac{1}{2y(x)}$\n",
        "\n",
        "\n",
        "2. Separate the variables:\n",
        "   \n",
        "   $2y(x) dy = dx$\n",
        "\n",
        "3. Integrate both sides:\n",
        "   \n",
        "   $∫ 2y(x) dy = ∫ dx$\n",
        "\n",
        "   $y(x)^2 = x + C$\n",
        "\n",
        "4. Solve for y(x):\n",
        "   \n",
        "   $y(x) = ± \\sqrt(x + C)$, where C is a constant"
      ],
      "metadata": {
        "id": "oCkgYwy_WbUn"
      }
    },
    {
      "cell_type": "markdown",
      "source": [
        "$Results:$\n",
        "\n",
        "$1. A * e^x$, where A is a constant\n",
        "\n",
        "$2. y(x) = ± \\sqrt(x + C)$, where C is a constant"
      ],
      "metadata": {
        "id": "huldkW8eXDhC"
      }
    },
    {
      "cell_type": "markdown",
      "source": [
        "##3. Solve the first-order ordinary differential equations using the method of separation of variables for $x$ and $y=y(x)$:\n",
        "\n",
        "   - $\\frac{dy}{dx} = \\frac{x}{y}$\n",
        "   \n",
        "   - $\\frac{dy}{dx} = \\frac{y}{x}$\n",
        "   \n",
        "   - $\\frac{dy}{dx} = xy$"
      ],
      "metadata": {
        "id": "-kC97qjgXvun"
      }
    },
    {
      "cell_type": "markdown",
      "source": [
        "1. - $\\frac{dy}{dx} = \\frac{x}{y}$\n",
        "\n",
        "  Fisrt we separate the variables:\n",
        "   \n",
        "   $y \\cdot dy = x \\cdot dx$\n",
        "\n",
        "3. Next integrate both sides:\n",
        "   \n",
        "   $\\int y dy = \\int x dx$\n",
        "\n",
        "   $\\frac{y^2}{2} = \\frac{x^2}{2} + C$ $|\\cdot 2$\n",
        "\n",
        "4. Solve for y:\n",
        "\n",
        "   $y^2 = x^2 + C'$\n",
        "\n",
        "   where $C' = 2C$ is the new constant.\n",
        "\n",
        "   $y = ± \\sqrt(x^2 + C')$"
      ],
      "metadata": {
        "id": "31bCJOToXyUy"
      }
    },
    {
      "cell_type": "markdown",
      "source": [
        "1. - $\\frac{dy}{dx} = \\frac{y}{x}$\n",
        "\n",
        "  First we separate the variables:\n",
        "  \n",
        "  $\\frac{1}{y} dy = \\frac{1}{x} dx$\n",
        "\n",
        "3. Integrate both sides:\n",
        "\n",
        "   $\\frac{dy}{y} = \\frac{dx}{x}$\n",
        "\n",
        "   $ln|y| = ln|x| + C$\n",
        "\n",
        "4. Solve for y:\n",
        "\n",
        "  $y = A * x$\n",
        "   \n",
        "  where $A = e^C$ (constant)"
      ],
      "metadata": {
        "id": "vgc-MX-EZiYH"
      }
    },
    {
      "cell_type": "markdown",
      "source": [
        "1. - $\\frac{dy}{dx} = xy$\n",
        "\n",
        "  First separate the variables:\n",
        "\n",
        "   $\\frac{1}{y} dy = x dx$\n",
        "\n",
        "3. Integrate both sides:\n",
        "\n",
        "   $\\int\\frac{1}{y} dy = \\int x dx$\n",
        "\n",
        "   $ln|y| = \\frac {x^2}{2} + C$\n",
        "\n",
        "4. Solve for y:\n",
        "\n",
        "   $y = A * e^{\\frac{x^2}{2}}$\n",
        "\n",
        "   where $A = e^C$ (constant)"
      ],
      "metadata": {
        "id": "plqRfDdLaP_O"
      }
    },
    {
      "cell_type": "markdown",
      "source": [
        "$Results$\n",
        "\n",
        "1. $y = ± \\sqrt(x^2 + C')$\n",
        "2. $y = A * x$\n",
        "3. $y = A * e^{\\frac{x^2}{2}}$"
      ],
      "metadata": {
        "id": "OlWQ6I8ja0Gi"
      }
    },
    {
      "cell_type": "markdown",
      "source": [],
      "metadata": {
        "id": "BGQzTw1fbEjs"
      }
    }
  ]
}