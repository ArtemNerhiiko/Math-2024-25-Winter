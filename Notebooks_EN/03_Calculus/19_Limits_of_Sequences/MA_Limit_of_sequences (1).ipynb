{
  "nbformat": 4,
  "nbformat_minor": 0,
  "metadata": {
    "colab": {
      "provenance": []
    },
    "kernelspec": {
      "name": "python3",
      "display_name": "Python 3"
    },
    "language_info": {
      "name": "python"
    }
  },
  "cells": [
    {
      "cell_type": "markdown",
      "source": [
        "1. Calculate:\n",
        "   - $\\displaystyle \\lim_{n \\to \\infty} \\frac{n^2 + 3n}{2 n^2 - 2n}$\n",
        "\n",
        "   - $\\displaystyle \\lim_{n \\to \\infty} \\frac{(2n+3)^3}{n^3-1}$\n",
        "\n",
        "2. Prove using the squeeze theorem:\n",
        "   - $\\displaystyle\\lim_{n \\to \\infty} \\frac{\\sin(n)}{n}$\n",
        "\n",
        "3. Find the limit of the sequence:\n",
        "   - $a_n = (1+\\frac{1}{n})^n$"
      ],
      "metadata": {
        "id": "WimFk-AQSQ7W"
      }
    },
    {
      "cell_type": "markdown",
      "source": [
        "##1. Calculate\n",
        "\n",
        "1. $\\displaystyle \\lim_{n \\to \\infty} \\frac{n^2 + 3n}{2 n^2 - 2n}$\n",
        "\n",
        "Numerator: $n^2+3n$ (highest term: $n^2$)\n",
        "\n",
        "Determinator: $2n^2 - 2n$ (highest term: $2n^2$)"
      ],
      "metadata": {
        "id": "FqVs9XMqSV-w"
      }
    },
    {
      "cell_type": "markdown",
      "source": [
        "First we divide by $n^2$\n",
        "\n",
        "$\\displaystyle \\lim_{n \\to \\infty} \\frac{n^2 + 3n}{2 n^2 - 2n}$ = $\\displaystyle \\lim_{n \\to \\infty}\\frac{1+\\frac{3}{n}}{2-\\frac{2}{n}}$\n"
      ],
      "metadata": {
        "id": "G0l_dJkcbv5w"
      }
    },
    {
      "cell_type": "markdown",
      "source": [
        "Next we evaluate the limit:\n",
        "\n",
        "As $n\\to\\infty, \\frac{3}{n}\\to 0, \\frac{2}{n} \\to 0$ the fraction simplifies to:\n",
        "\n",
        "$\\frac{1+0}{2-0} = \\frac{1}{2}$"
      ],
      "metadata": {
        "id": "-ROJVnXWcNTa"
      }
    },
    {
      "cell_type": "markdown",
      "source": [
        "$\\displaystyle \\lim_{n \\to \\infty} \\frac{n^2 + 3n}{2 n^2 - 2n}$ = $\\frac{1}{2}$"
      ],
      "metadata": {
        "id": "UyOjfuqBck7j"
      }
    },
    {
      "cell_type": "markdown",
      "source": [
        "2. $\\displaystyle \\lim_{n \\to \\infty} \\frac{(2n+3)^3}{n^3-1}$\n",
        "\n",
        "First we expand the numerator:\n",
        "\n",
        "$(2n+3)^3 = 8n^3 - 36n^2 + 54n +27$\n",
        "\n",
        "$\\displaystyle \\lim_{n \\to \\infty} \\frac{8n^3 - 36n^2 + 54n +27}{n^3-1}$"
      ],
      "metadata": {
        "id": "ilQRrKgvcpcr"
      }
    },
    {
      "cell_type": "markdown",
      "source": [
        "Next we divide by $n^3$\n",
        "\n",
        "$\\displaystyle \\lim_{n \\to \\infty} \\frac{8 - \\frac{36}{n} + \\frac{54}{n^2} +\\frac{27}{n^3}}{1-\\frac{1}{n^3}}$\n",
        "\n",
        "As $n\\to\\infty$, all terms involving $\\frac{1}{n}$ vanish, leaving:\n",
        "\n",
        "$\\frac{8+0+0+0}{1-0} = 8$"
      ],
      "metadata": {
        "id": "eVFQaK2NdUbA"
      }
    },
    {
      "cell_type": "markdown",
      "source": [
        "$\\displaystyle \\lim_{n \\to \\infty} \\frac{(2n+3)^3}{n^3-1} = 8$"
      ],
      "metadata": {
        "id": "4sv365OkeFi_"
      }
    },
    {
      "cell_type": "markdown",
      "source": [
        "##2. Prove using the squeeze theorem:\n",
        "   - $\\displaystyle\\lim_{n \\to \\infty} \\frac{\\sin(n)}{n}$"
      ],
      "metadata": {
        "id": "LwA7Lxl2eJby"
      }
    },
    {
      "cell_type": "markdown",
      "source": [
        "First we find upper and lower bounds\n",
        "\n",
        "Since $-1≤sin(n)≤1$ we can divide everything by $n$\n",
        "\n",
        "$\\frac{-1}{n}≤\\frac{sin(n)}{n}≤\\frac{1}{n}$\n",
        "\n"
      ],
      "metadata": {
        "id": "KH8wXft-eN7s"
      }
    },
    {
      "cell_type": "markdown",
      "source": [
        "Next we apply the squeeze theorem:\n",
        "\n",
        "$\\displaystyle\\lim_{n \\to \\infty}\\frac{-1}{n} = 0$, $\\displaystyle\\lim_{n \\to \\infty}\\frac{1}{n} = 0$\n",
        "\n",
        "Since $\\frac{sin(n)}{n}$ is squeezed between these two expressions, we conclude:\n",
        "\n",
        "$\\displaystyle\\lim_{n \\to \\infty} \\frac{\\sin(n)}{n} = 0$"
      ],
      "metadata": {
        "id": "tWLzJ3B9endV"
      }
    },
    {
      "cell_type": "markdown",
      "source": [
        "##3. Find the limit of the sequence:\n",
        "   - $a_n = (1+\\frac{1}{n})^n$\n",
        "\n",
        "   $lim_{n\\to\\infty}(1+\\frac{1}{n})^n$ - this is a well known limit definition of $e$\n",
        "\n",
        "   $lim_{n\\to\\infty}((1+\\frac{1}{n})^n = e$"
      ],
      "metadata": {
        "id": "g6jbMJG-fTiQ"
      }
    },
    {
      "cell_type": "markdown",
      "source": [
        "Final answer:\n",
        "\n",
        "$lim_{n\\to\\infty}a_n = e$"
      ],
      "metadata": {
        "id": "92qcJD2Uh38Y"
      }
    }
  ]
}