{
  "nbformat": 4,
  "nbformat_minor": 0,
  "metadata": {
    "colab": {
      "provenance": []
    },
    "kernelspec": {
      "name": "python3",
      "display_name": "Python 3"
    },
    "language_info": {
      "name": "python"
    }
  },
  "cells": [
    {
      "cell_type": "markdown",
      "source": [
        "## 22. Extremum\n",
        "\n",
        "6. The profit function is $P(u) = -2u^2 + 50u - 300$, where $u$ is the number of units sold. Find the number of units that maximize profit.\n",
        "\n",
        "7. You have 10 meters of string, and you need to use it to enclose the largest possible rectangular. Find the dimensions of the rectangle.\n",
        "\n",
        "8. Find extremum od $f(x) = x^2 + 3x - 5$.\n",
        "\n",
        "9. Find extremum of $f(x) =\\frac{x^2+2x+1}{x-1}$."
      ],
      "metadata": {
        "id": "o-eVP8b9dHLU"
      }
    },
    {
      "cell_type": "markdown",
      "source": [
        "##6. The profit function is $P(u) = -2u^2 + 50u - 300$, where $u$ is the number of units sold. Find the number of units that maximize profit.\n",
        "\n",
        "  $P(u) = -2u^2 + 50u - 300$\n",
        "\n",
        "  To maximize profit we need to find the critical points of $P(u)$. First we have to take the derivative and set it to zero\n",
        "\n",
        "  $P'(u) = \\frac{d}{du}(-2u^2 + 50u - 300) = -4u + 50$\n",
        "\n",
        "  $P'(u) = 0$\n",
        "\n",
        "  $-4u + 50 = 0$\n",
        "  \n",
        "  $u = \\frac{50}{4} = 12.5$"
      ],
      "metadata": {
        "id": "m0Sin1yvdIn3"
      }
    },
    {
      "cell_type": "markdown",
      "source": [
        "##7. You have 10 meters of string, and you need to use it to enclose the largest possible rectangular. Find the dimensions of the rectangle.\n",
        "\n",
        "  Let the length of rectangle be $x$ and width $y$. The perimeter is:\n",
        "  \n",
        "  $2x + 2y = 10 ⟹ x + y = 5$ and area $S = x\\cdot y$\n",
        "\n",
        "  $y = 5 − x$"
      ],
      "metadata": {
        "id": "zA1lFaYxeceG"
      }
    },
    {
      "cell_type": "markdown",
      "source": [
        "Now instead of $y$ we substitute $5 - x$\n",
        "\n",
        "  $S = x(5−x) = 5x − x^2$\n",
        "  \n",
        "  $a = -1, b = 5$"
      ],
      "metadata": {
        "id": "BGv7xCgdiRiA"
      }
    },
    {
      "cell_type": "markdown",
      "source": [
        "$Formula$ $x = \\frac{-b}{2a}$\n",
        "\n",
        "  $\\frac{-5}{2(-1)} = \\frac{5}{2} = 2.5$\n",
        "\n",
        "  $y = 5−x = 5 − 2.5 = 2.5$"
      ],
      "metadata": {
        "id": "iwMSco1ZiUsr"
      }
    },
    {
      "cell_type": "markdown",
      "source": [
        "The dimensions of rectangle are $2.5$ by $2.5$ meters"
      ],
      "metadata": {
        "id": "5ThCktoAi7Er"
      }
    },
    {
      "cell_type": "markdown",
      "source": [
        "#8. Find extremum od $f(x) = x^2 + 3x - 5$.\n",
        "\n",
        "First we take the derivative of $f(x)$\n",
        "\n",
        "$f'(x) = \\frac{d}{dx}(x^2 + 3x - 5) = 2x + 3$\n",
        "\n",
        "$x = \\frac{-3}{2}$\n",
        "\n",
        "\n"
      ],
      "metadata": {
        "id": "85Er30PMfLfQ"
      }
    },
    {
      "cell_type": "markdown",
      "source": [
        "We need to check if point $\\frac{-3}{2}$ is a min or max. Second derivative:\n",
        "\n",
        "$f''(x) = \\frac{d}{dx}(2x + 3) = 2$\n",
        "\n",
        "As $f''(x) = 2 > 0$\n",
        "\n",
        "$min = \\frac{-3}{2}$"
      ],
      "metadata": {
        "id": "PEfSeqOgiKwC"
      }
    },
    {
      "cell_type": "markdown",
      "source": [
        "We find the value of $f(x)$ at $x = \\frac{-3}{2}$\n",
        "\n",
        "$f(\\frac{-3}{2}) = (\\frac{-3}{2})^2 + 3(\\frac{-3}{2}) - 5$\n",
        "\n",
        "$f(\\frac{-3}{2}) = \\frac{9}{4} - \\frac{9}{2} - 5 = \\frac{-29}{4}$\n",
        "\n",
        "$(\\frac{-3}{2}; \\frac{-29}{4})$"
      ],
      "metadata": {
        "id": "3OVFntbViNWh"
      }
    },
    {
      "cell_type": "markdown",
      "source": [
        "##9. Find extremum of $f(x) =\\frac{x^2+2x+1}{x-1}$\n",
        "\n",
        "  $f(x) = \\frac{(x+1)^2}{x-1}$\n",
        "\n",
        "  $Formula = \\frac{d}{dx} \\cdot (\\frac{f(x)}{g(x)})$ = $\\frac{d}{dx} \\cdot (\\frac{g(x) \\cdot f'(x)}{g'(x) \\cdot f(x)})$\n",
        "\n",
        "  $f'(x) = \\frac{(x-1)*((x+1)^2)' - (x+1)^2*((x-1))'}{(x-1)^2}$\n",
        "\n",
        "  $((x+1)^2)' = 2(x+1)$\n",
        "\n",
        "  $(x-1)' = 1$\n",
        "\n",
        "  $f'(x) = \\frac{(x−1)⋅2(x+1)−(x+1)^2*1}{(x-1)^2}$\n",
        "\n",
        "  $f'(x) = \\frac{2(x^2 -1) - (x^2 + 2x + 1)}{(x-1)^2}$\n",
        "\n",
        "  $f'(x) = \\frac{x^2 - 2x -3}{(x-1)^2}$\n",
        "\n",
        "\n",
        "\n"
      ],
      "metadata": {
        "id": "DJT18AOQgokD"
      }
    },
    {
      "cell_type": "markdown",
      "source": [
        "  Next we set f'(x) = 0:\n",
        "\n",
        "  $x^2 - 2x - 3 = 0$\n",
        "  \n",
        "  $x = -1; x = 3$\n",
        "\n",
        "  $(x-1)^2$ does not equal 0"
      ],
      "metadata": {
        "id": "WdRHErQchml0"
      }
    },
    {
      "cell_type": "markdown",
      "source": [
        "  Then we search for $min$ and $max$:\n",
        "\n",
        "  If $x∈(−∞,−1): f'(x)>0$\n",
        "\n",
        "  If $x∈(-1, 3): f'(x)<0$\n",
        "\n",
        "  If $x∈(3, ∞): f'(x)>0$\n",
        "\n",
        "  $max(x) = -1$\n",
        "  \n",
        "  $min(x) = 3$"
      ],
      "metadata": {
        "id": "B6Qda03phpwr"
      }
    }
  ]
}