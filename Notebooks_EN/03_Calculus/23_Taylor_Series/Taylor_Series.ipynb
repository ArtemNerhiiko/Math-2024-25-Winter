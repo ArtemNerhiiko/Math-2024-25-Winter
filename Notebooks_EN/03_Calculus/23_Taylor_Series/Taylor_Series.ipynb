{
  "nbformat": 4,
  "nbformat_minor": 0,
  "metadata": {
    "colab": {
      "provenance": []
    },
    "kernelspec": {
      "name": "python3",
      "display_name": "Python 3"
    },
    "language_info": {
      "name": "python"
    }
  },
  "cells": [
    {
      "cell_type": "markdown",
      "source": [
        "##23 Taylor Series\n",
        "\n",
        "1. Find the Taylor series and visualize obtained functions in Geogebra:\n",
        "\n",
        "  $f(x) = \\cos(x)$ around $x = 0$ up to the 4th degree.\n",
        "\n",
        "  "
      ],
      "metadata": {
        "id": "JMm0FYrwsQ99"
      }
    }
  ]
}