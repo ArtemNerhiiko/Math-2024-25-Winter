{
  "nbformat": 4,
  "nbformat_minor": 0,
  "metadata": {
    "colab": {
      "provenance": []
    },
    "kernelspec": {
      "name": "python3",
      "display_name": "Python 3"
    },
    "language_info": {
      "name": "python"
    }
  },
  "cells": [
    {
      "cell_type": "markdown",
      "source": [
        "1. Compute:\n",
        "   - $\\displaystyle\\lim_{x \\to \\infty} \\frac{x^3 + 2x^2}{x^4 - 3x^3}$\n",
        "\n",
        "2. Find:\n",
        "   \n",
        "   - $\\displaystyle \\lim_{x \\to 0} \\frac{\\sin(3x)}{2x+1}$.\n",
        "\n",
        "3. Find the asymptotes of the function:\n",
        "  \n",
        "   - $f(x) = \\frac{x^2 - 1}{x^2 + 1}$\n",
        "   - $g(x) = \\frac{\\sin(x)}{x^2+1}$"
      ],
      "metadata": {
        "id": "qsLEHXT3HblP"
      }
    },
    {
      "cell_type": "markdown",
      "source": [
        "##1. Compute:\n",
        "   - $\\displaystyle\\lim_{x \\to \\infty} \\frac{x^3 + 2x^2}{x^4 - 3x^3}$"
      ],
      "metadata": {
        "id": "J0I6UNf-HlVf"
      }
    },
    {
      "cell_type": "markdown",
      "source": [
        "1. Identify the highest degree term in both the numerator and denominator.\n",
        "\n",
        "Numerator: $x^3 + 2x^2$, highest term is $x^3$\n",
        "\n",
        "Denominator: $x^4 - 3x^3$, highest term $x^4$"
      ],
      "metadata": {
        "id": "N8jBHxuAHxgl"
      }
    },
    {
      "cell_type": "markdown",
      "source": [
        "$\\frac{x^3 \\cdot (1+\\frac{2}{x})}{x^4 \\cdot (1-\\frac{3}{x})}$"
      ],
      "metadata": {
        "id": "pC2Wrai0IJK-"
      }
    },
    {
      "cell_type": "markdown",
      "source": [
        "2. Next we simplify:\n",
        "\n",
        "$\\frac{x^3}{x^4} \\cdot \\frac{1+\\frac{2}{x}}{1-\\frac{3}{x}} = \\frac{1}{x} \\cdot \\frac{1+\\frac{2}{x}}{1-\\frac{3}{x}}$"
      ],
      "metadata": {
        "id": "rsbFyUKAIu1O"
      }
    },
    {
      "cell_type": "markdown",
      "source": [
        "As $x \\to \\infty, \\frac{2}{x} \\to 0, \\frac{3}{x} \\to 0$,  so the fraction simplifies to:\n",
        "\n",
        "$\\frac{1}{x} \\cdot \\frac{1+0}{1-0} = \\frac{1}{x}$\n",
        "\n",
        "Since $x \\to \\infty, \\frac{1}{x} \\to 0$\n",
        "\n",
        "$\\displaystyle\\lim_{x \\to \\infty} \\frac{x^3 + 2x^2}{x^4 - 3x^3} = 0$"
      ],
      "metadata": {
        "id": "Oue097wpJaWf"
      }
    },
    {
      "cell_type": "markdown",
      "source": [
        "##2. Find:\n",
        "   \n",
        "   - $\\displaystyle \\lim_{x \\to 0} \\frac{\\sin(3x)}{2x+1}$."
      ],
      "metadata": {
        "id": "V_w-UBysK0bb"
      }
    },
    {
      "cell_type": "markdown",
      "source": [
        "1. Use the standard limit property:\n",
        "\n",
        "$\\displaystyle \\lim_{x \\to 0} \\frac{\\sin(kx)}{kx} = 1$.\n",
        "\n",
        "Here $k=3$, so $sin(3x) ≈ 3x$"
      ],
      "metadata": {
        "id": "79mjuiYIK9K5"
      }
    },
    {
      "cell_type": "markdown",
      "source": [
        "2. $\\frac{3x}{2x+1}$\n",
        "\n",
        "We evaluate the limit as $x \\to 0$\n",
        "\n",
        "$\\frac{3\\cdot(0)}{2\\cdot(0)+1} = 0$"
      ],
      "metadata": {
        "id": "r8SEBbm5LZQz"
      }
    },
    {
      "cell_type": "markdown",
      "source": [
        "3. Final result:\n",
        "\n",
        "$\\displaystyle \\lim_{x \\to 0} \\frac{\\sin(3x)}{2x+1} = 0$"
      ],
      "metadata": {
        "id": "WpA6ftHULyIG"
      }
    },
    {
      "cell_type": "markdown",
      "source": [
        "##3. Find the asymptotes of the function:\n",
        "  \n",
        "   1.  $f(x) = \\frac{x^2 - 1}{x^2 + 1}$\n",
        "\n",
        "   Vertical asymptotes occur where the denominator is 0\n",
        "\n",
        "   No real solutions since $x^2+1$ is never 0"
      ],
      "metadata": {
        "id": "sd-8YHFQL28x"
      }
    },
    {
      "cell_type": "markdown",
      "source": [
        "First we compare the degrees of numerator and denominator (both are degree 2) and then divide the leading coefficients:\n",
        "\n",
        "$\\displaystyle\\lim_{x \\to \\infty}\\frac{x^2 - 1}{x^2 + 1} = \\frac{1}{1} = 1$\n",
        "\n",
        "Horizontal asymptote: $y=1$"
      ],
      "metadata": {
        "id": "LZWsUaEJMtuT"
      }
    },
    {
      "cell_type": "markdown",
      "source": [
        "2. $g(x) = \\frac{\\sin(x)}{x^2+1}$\n",
        "\n",
        "The denominator $x^2+1$ never equals zero, so we have no vertical asymptotes"
      ],
      "metadata": {
        "id": "H2eQzYG6M0RI"
      }
    },
    {
      "cell_type": "markdown",
      "source": [
        "As $x \\to \\infty$, the denominator $x^2+1 \\to\\infty$ while sin(x) oscillates between -1 and 1\n",
        "\n",
        "$\\displaystyle\\lim_{x \\to \\infty} g(x)=0$\n",
        "\n",
        "Horizontal asymptote: $y=0$"
      ],
      "metadata": {
        "id": "I55BKE3eQ_oa"
      }
    }
  ]
}