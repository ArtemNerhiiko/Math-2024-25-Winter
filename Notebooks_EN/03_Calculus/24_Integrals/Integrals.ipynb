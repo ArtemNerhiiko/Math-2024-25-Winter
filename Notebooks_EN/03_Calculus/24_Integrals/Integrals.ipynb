{
  "nbformat": 4,
  "nbformat_minor": 0,
  "metadata": {
    "colab": {
      "provenance": []
    },
    "kernelspec": {
      "name": "python3",
      "display_name": "Python 3"
    },
    "language_info": {
      "name": "python"
    }
  },
  "cells": [
    {
      "cell_type": "markdown",
      "source": [
        "## 24. Integrals\n",
        "\n",
        "##1. Compute:\n",
        "   - $\\int (x^2 +2) dx$\n",
        "   - $\\int 2\\sin(x) dx$\n",
        "   - $\\int \\frac{3}{x} dx$\n",
        "   - $\\int \\frac{1}{x^2} dx$\n",
        "   - $\\int \\left( \\frac{1}{3}x^4 - 5 \\right) \\, dx$\n",
        "   - $\\int (\\sin^2 x + \\cos^2 x) \\, dx$\n",
        "   - $\\int (5 \\sin x + 3e^x) \\, dx$\n",
        "   - $\\int \\sqrt[3]{x} \\, dx$\n",
        "   - $\\int \\sqrt{10x} \\, dx$\n",
        "   - $\\int \\cos\\left(\\frac{5}{2}x + 3\\right) \\, dx$\n",
        "   - $\\int \\frac{\\cos(\\ln(x))}{x} \\, dx$\n",
        "   - $\\int x \\ln(x) \\, dx$\n",
        "   - $\\int x e^x \\, dx$\n",
        "\n"
      ],
      "metadata": {
        "id": "9YH9fgTIzSDt"
      }
    },
    {
      "cell_type": "markdown",
      "source": [
        "1. $\\int (x^2 +2) dx$\n",
        "   \n",
        "   $We use the sum rule: \\int f(x)\\pm g(x)dx=\\int f(x)dx\\pm \\int g(x)dx$\n",
        "\n",
        "   $\\int \\:x^2dx+\\int \\:2dx$\n",
        "\n",
        "   $\\int \\:x^2dx=\\frac{x^3}{3}$\n",
        "   \n",
        "   $\\int \\:2dx=2x$\n",
        "   \n",
        "   $Result=$ $\\frac{x^3}{3}+2x+C$"
      ],
      "metadata": {
        "id": "Ag30o-pm3Xsp"
      }
    },
    {
      "cell_type": "markdown",
      "source": [
        "2. $\\int 2\\sin(x) dx$\n",
        "\n",
        "   First we take the constant out\n",
        "  \n",
        "   $2*(\\int \\sin(x) dx)$\n",
        "\n",
        "   $Formula:$ $\\int sin(x)dx = -cos(x)$\n",
        "\n",
        "   $2(-cos(x))$\n",
        "   \n",
        "   $Result=$ $-2cos(x) + C$"
      ],
      "metadata": {
        "id": "88ESOh4ZYegR"
      }
    },
    {
      "cell_type": "markdown",
      "source": [
        "3. $\\int \\frac{3}{x} dx$\n",
        "\n",
        "   $3\\cdot\\int \\frac{1}{x}dx$\n",
        "\n",
        "   $Formula:$ $\\int \\:\\frac{1}{x}dx=\\ln(|x|)$\n",
        "\n",
        "   $Result=$ $3\\ln|x| + C$"
      ],
      "metadata": {
        "id": "4tVWvwCqYtaU"
      }
    },
    {
      "cell_type": "markdown",
      "source": [
        "4. $\\int \\frac{1}{x^2} dx$\n",
        "\n",
        "   We use the integral power rule: $\\int x^n dx = \\frac{x^{n+1}}{n+1} + C$\n",
        "\n",
        "   $Result=$ $-\\frac{1}{x} + C$"
      ],
      "metadata": {
        "id": "w2bQ9pn6aXoN"
      }
    },
    {
      "cell_type": "markdown",
      "source": [
        "5. $\\int \\left( \\frac{1}{3}x^4 - 5 \\right) \\, dx$\n",
        "\n",
        "   We use the sum rule: $\\int f\\left(x\\right)\\pm g\\left(x\\right)dx=\\int f\\left(x\\right)dx\\pm \\int g\\left(x\\right)dx$\n",
        "\n",
        "   $\\int \\:\\frac{1}{3}x^4dx-\\int \\:5dx$\n",
        "\n",
        "   $\\int \\:\\frac{1}{3}x^4dx=\\frac{x^5}{15}$\n",
        "\n",
        "   $\\int \\:5dx=5x$\n",
        "\n",
        "   $Result=$ $\\frac{x^5}{15}-5x+C$"
      ],
      "metadata": {
        "id": "LGEnskiKbpis"
      }
    },
    {
      "cell_type": "markdown",
      "source": [
        "6. $\\int (\\sin^2 x + \\cos^2 x) \\, dx$\n",
        "\n",
        "   Lets rewrite this equation using trig indentities: $(\\sin^2 x + \\cos^2 x) = 1$\n",
        "\n",
        "  $\\int (\\sin^2 x + \\cos^2 x) \\, dx$ = $\\int1\\cdot dx$ = $1 \\cdot x$ = $x$\n",
        "\n",
        "  $Result=$ $x + C$"
      ],
      "metadata": {
        "id": "4V_OTOk5cxV4"
      }
    },
    {
      "cell_type": "markdown",
      "source": [
        "7. $\\int (5 \\sin x + 3e^x) \\, dx$\n",
        "\n",
        "   We use the sum rule: $\\int f\\left(x\\right)\\pm g\\left(x\\right)dx=\\int f\\left(x\\right)dx\\pm \\int g\\left(x\\right)dx$\n",
        "\n",
        "   $\\int \\:5\\sin \\left(x\\right)dx+\\int \\:3e^xdx$\n",
        "\n",
        "   $\\int \\:5\\sin \\left(x\\right)dx=-5\\cos \\left(x\\right)$\n",
        "\n",
        "   $\\int \\:3e^xdx=3e^x$\n",
        "\n",
        "   $Result=$ $-5\\cos \\left(x\\right)+3e^x+C$"
      ],
      "metadata": {
        "id": "lbVUcMuueD9C"
      }
    },
    {
      "cell_type": "markdown",
      "source": [
        "8. $\\int \\sqrt[3]{x} \\, dx$\n",
        "\n",
        "   $\\int x^{\\frac{1}{3}} \\, dx$\n",
        "\n",
        "   We use the integral power rule: $\\int x^n dx = \\frac{x^{n+1}}{n+1} + C$\n",
        "\n",
        "   $Result=$ $\\frac{3}{4}x^{\\frac{4}{3}}$ + C"
      ],
      "metadata": {
        "id": "ZqzW4REve-5N"
      }
    },
    {
      "cell_type": "markdown",
      "source": [
        "9. $\\int \\sqrt{10x} \\, dx$\n",
        "\n",
        "   We use radical rule: $\\sqrt[n]{ab}=\\sqrt[n]{a}\\sqrt[n]{b}$\n",
        "   \n",
        "   $a\\ge 0,\\:b\\ge 0$\n",
        "\n",
        "   $\\int \\:\\sqrt{10}\\cdot\\sqrt{x}dx$\n",
        "   \n",
        "   $\\sqrt{10}\\cdot \\int \\sqrt{x}dx$\n",
        "\n",
        "   $\\sqrt{10}\\cdot \\int x^{\\frac{1}{2}}dx$\n",
        "\n",
        "   Then we apply the power rule: $\\int x^n dx = \\frac{x^{n+1}}{n+1} + C$\n",
        "\n",
        "   $Result=$ $\\sqrt{10}\\frac{2}{3}x^{\\frac{3}{2}}+C$ ="
      ],
      "metadata": {
        "id": "FTR1ed-0gbcE"
      }
    },
    {
      "cell_type": "markdown",
      "source": [
        "10. $\\int \\cos\\left(\\frac{5}{2}x + 3\\right) \\, dx$\n",
        "\n",
        "    "
      ],
      "metadata": {
        "id": "YTR-3tIFhuYy"
      }
    },
    {
      "cell_type": "markdown",
      "source": [
        "11. $\\int \\frac{\\cos(\\ln(x))}{x} \\, dx$\n",
        "\n",
        "    "
      ],
      "metadata": {
        "id": "9X-yeryNsw1x"
      }
    },
    {
      "cell_type": "markdown",
      "source": [
        "12. $\\int x \\ln(x) \\, dx$\n",
        "\n",
        "    "
      ],
      "metadata": {
        "id": "iO_2G6TAtIyE"
      }
    },
    {
      "cell_type": "markdown",
      "source": [
        "##2. Calculate integrals over the interval $[0, \\pi]$ and visualize them in Geogebra:\n",
        "   - $f(x)=2x+1$\n",
        "   - $g(x)=x^2$"
      ],
      "metadata": {
        "id": "-Rq6_TuStfvO"
      }
    },
    {
      "cell_type": "markdown",
      "source": [
        "1. $f(x)=2x+1$\n",
        "\n",
        "   If the limits are $[0;\\pi]$:\n",
        "\n",
        "   $Formula: \\frac{x^{n+1}}{n+1} + C$$\n",
        "\n",
        "   $\\int _0^{\\pi }(2x+1)dx$\n",
        "\n",
        "   First we calculate the antiderivative F(x) for f(x) = 2x + 1:\n",
        "\n",
        "   $F(x) = \\int(2x+1)dx = x^2 + x + C$\n",
        "\n",
        "   Then we substitute the limits of integration $\\pi$ and 0 into F(x):\n",
        "\n",
        "   $\\int _0^{\\pi }(2x+1)dx$ = $F(\\pi) - F(0)$\n",
        "\n",
        "   $F(\\pi) = (\\pi)^2 + \\pi$\n",
        "\n",
        "   $F(0) = 0^2 + 0 = 0$\n",
        "\n",
        "   $Result:$\n",
        "   \n",
        "   $\\int _0^{\\pi }(2x+1)dx = (\\pi)^2 + \\pi - 0 = (\\pi)^2 + \\pi$"
      ],
      "metadata": {
        "id": "hDxVTCDPttW2"
      }
    },
    {
      "cell_type": "markdown",
      "source": [
        "2. $g(x)=x^2$\n",
        "\n",
        "   The limits are $[0;\\pi]$:\n",
        "\n",
        "   $\\int _0^{\\pi }x^2dx$\n",
        "\n",
        "   First we calculate the antiderivative $G(x)$ for $g(x) = x^2$\n",
        "\n",
        "   $Formula: \\frac{x^{n+1}}{n+1} + C$\n",
        "\n",
        "   $G(x) = \\int _0^{\\pi }x^2dx = \\frac{x^3}{3} + C$\n",
        "\n",
        "   Then we substitute the limits of integration $\\pi$ and 0 into G(x):\n",
        "\n",
        "   $\\int _0^{\\pi }(2x+1)dx$ = $G(\\pi) - G(0)$\n",
        "\n",
        "   $G(\\pi) = \\frac{(\\pi)^3}{3} = \\frac{\\pi^3}{3}$\n",
        "\n",
        "   $G(0) = \\frac{(0)^3}{3} = 0$\n",
        "\n",
        "   $\\int _0^{\\pi }x^2dx = \\frac{\\pi^3}{3} - 0 = \\frac{\\pi^3}{3}$\n",
        "\n",
        "   \n",
        "\n",
        "   "
      ],
      "metadata": {
        "id": "Z6JEQAtOzvKC"
      }
    },
    {
      "cell_type": "markdown",
      "source": [],
      "metadata": {
        "id": "4_ty70QEHNwn"
      }
    }
  ]
}