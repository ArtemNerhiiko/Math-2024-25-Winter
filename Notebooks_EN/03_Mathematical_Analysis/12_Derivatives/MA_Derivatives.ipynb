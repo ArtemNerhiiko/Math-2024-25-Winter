{
  "nbformat": 4,
  "nbformat_minor": 0,
  "metadata": {
    "colab": {
      "provenance": []
    },
    "kernelspec": {
      "name": "python3",
      "display_name": "Python 3"
    },
    "language_info": {
      "name": "python"
    }
  },
  "cells": [
    {
      "cell_type": "markdown",
      "source": [
        "## 21. Derivatives\n",
        "\n",
        "1. Compute derivatives of functions:\n",
        "   * $y(x) = -3x+3$\n",
        "   * $y(x) = \\pi x + \\sin(1)$\n",
        "   * $y(x) = 4+\\sin(2)$\n",
        "   * $y(x) = 2x^3 - 3x^2 + 8x - 9$\n",
        "   * $y(x) = 6 x^{1/3}$\n",
        "   * $y(x) = \\sqrt{x}$\n",
        "   * $y(x) = \\cos(x) + \\sin(x)$\n",
        "   * $y(x) = 2\\sin(x) \\cos(x)$\n",
        "   * $y(x) = x\\sin(x)$\n",
        "   * $y(x) = (x+1)(x+1)$\n",
        "   * $y(x) = \\frac{x}{x+1}$\n",
        "   * $y(x) = (x+1)\\exp(x)$\n",
        "   * $y(x) = \\sin(x^2)$\n",
        "   * $y(x) = \\exp(-2x)$\n",
        "   * $y(x) = \\frac{1}{\\sin(x+1)}$\n",
        "   * $y(x) = \\sqrt{2x+1}$\n",
        "\n",
        "2. Prove:\n",
        "   - $\\frac{d}{dx} (\\ln(\\sin(x))) = \\cot(x)$\n",
        "\n",
        "3. For $f(x) = \\cos(x)$, verify that $f''(x) = -f(x)$.\n",
        "\n",
        "4. Using de l'Hospital's Rule, find the improper limits:\n",
        "   - $\\displaystyle \\lim_{x\\to 0} \\frac{\\sin{x}}{x}$\n",
        "\n",
        "   - $\\displaystyle \\lim_{x\\to \\infty} \\frac{\\ln x}{x}$\n",
        "\n",
        "   - $\\displaystyle \\lim_{x\\to \\infty} \\frac{\\exp(x)}{x}$\n",
        "\n",
        "5. In physics, the position of a particle is given by $x(t) = 3t^2 - 6t + 1$. Find the velocity $V(t)=x'(t)$ and acceleration $a(t)=V'(t)=x''(t)$ of the particle at time $t = 2$."
      ],
      "metadata": {
        "id": "pATfiPU8Okh3"
      }
    },
    {
      "cell_type": "markdown",
      "source": [
        "N1\n",
        "1. y(x)= −3x+3\n",
        "\n",
        "  y'(x) = -3\n",
        "\n",
        "\n",
        "2. y(x) = cx+sin(1)\n",
        "\n",
        "  f'(x) = π\n",
        "\n",
        "3. y(x) = 4+sin(2)\n",
        "\n",
        "  f'(x) = 0\n",
        "\n",
        "4. y(x) = 2x3−3x2+8x−9\n",
        "\n",
        "    f'(x) = 8\n",
        "\n",
        "5. y(x)= 6x^(1/3)\n",
        "\n",
        "  f'(x) =\n",
        "\n",
        "6. y(x) = √x\n",
        "\n",
        "  f'(x) = 1/2√x\n",
        "\n",
        "7. y(x) = cos(x)+sin(x)\n",
        "\n",
        "  f'(x) = cos(x)-sin(x)\n",
        "\n",
        "8. y(x) = 2sin(x)cos(x)\n",
        "\n",
        "  f'(x) = 2cos^2(x)-2sin^2(x)\n",
        "\n",
        "9. y(x) = xsin(x)\n",
        "\n",
        "  f'(x) = sin(x)+xcos(x)\n",
        "\n",
        "10. y(x) = (x+1)(x+1)\n",
        "\n",
        "    f'(x) = 2x+2\n",
        "\n",
        "11. y(x) = x/x+1\n",
        "\n",
        "    f'(x) = 1/(x^2+2x+1)\n",
        "\n",
        "12. y(x) = (x+1)exp(x)\n",
        "\n",
        "    f'(x) = e^x(x+2)\n",
        "\n",
        "13. y(x) = sin(x^2)\n",
        "\n",
        "    f'(x) = 2xcos(x^2)\n",
        "\n",
        "14. y(x) = exp(−2x)\n",
        "\n",
        "    f'(x) = -2e^(-2x)\n",
        "\n",
        "15. y(x) = 1/sin(x+1)\n",
        "\n",
        "    f'(x) = -cos(x+1)/sin^2(x+1)\n",
        "\n",
        "16. y(x) = √(2x+1)\n",
        "\n",
        "    f'(x) = 1/√(2x+1)\n",
        "\n",
        "   \n",
        "\n",
        "    "
      ],
      "metadata": {
        "id": "STL9OUVaPK4S"
      }
    },
    {
      "cell_type": "markdown",
      "source": [
        "3. For  f(x)=cos(x) , verify that  f\"(x) = −f(x).\n",
        "\n",
        "  f'(x) = -sin(x)\n",
        "  \n",
        "  f\"(x) = -cos(x)\n",
        "  \n",
        "  -cos(x) = -cos(x)"
      ],
      "metadata": {
        "id": "p9-kLHCT7mdN"
      }
    },
    {
      "cell_type": "markdown",
      "source": [
        "4. Using de l'Hospital's Rule, find the improper limits:\n",
        "\n",
        "  1. - $\\displaystyle \\lim_{x\\to 0} \\frac{\\sin{x}}{x}$\n",
        "  \n",
        "        $\\displaystyle \\lim_{x\\to 0} \\frac{\\sin{x}}{x}$ = $\\displaystyle \\lim_{x\\to 0} \\frac{\\cos{x}}{x}$\n",
        "\n",
        "        If x = 0\n",
        "\n",
        "        cos(0) = 1\n",
        "\n",
        "        $\\displaystyle \\lim_{x\\to 0} \\frac{\\sin{x}}{x}$ = 1\n",
        "\n",
        "\n",
        "\n",
        "\n",
        "\n",
        "  \n"
      ],
      "metadata": {
        "id": "tg4zn3zA84p7"
      }
    },
    {
      "cell_type": "markdown",
      "source": [
        "5. In physics, the position of a particle is given by  x(t)=3t2−6t+1 . Find the velocity  V(t)=x′(t)  and acceleration  a(t)=V′(t)=x′′(t)  of the particle at time  t=2 ."
      ],
      "metadata": {
        "id": "6v7n-AvYFaU9"
      }
    }
  ]
}